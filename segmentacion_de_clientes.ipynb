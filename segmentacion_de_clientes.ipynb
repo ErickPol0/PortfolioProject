{
  "nbformat": 4,
  "nbformat_minor": 0,
  "metadata": {
    "colab": {
      "provenance": [],
      "include_colab_link": true
    },
    "kernelspec": {
      "name": "python3",
      "display_name": "Python 3"
    },
    "language_info": {
      "name": "python"
    }
  },
  "cells": [
    {
      "cell_type": "markdown",
      "metadata": {
        "id": "view-in-github",
        "colab_type": "text"
      },
      "source": [
        "<a href=\"https://colab.research.google.com/github/ErickPol0/PortfolioProject/blob/main/segmentacion_de_clientes.ipynb\" target=\"_parent\"><img src=\"https://colab.research.google.com/assets/colab-badge.svg\" alt=\"Open In Colab\"/></a>"
      ]
    },
    {
      "cell_type": "markdown",
      "source": [
        "#Segmentación de clientes\n",
        "*Erick Polo -190300372*"
      ],
      "metadata": {
        "id": "-Ven0PqlI__w"
      }
    },
    {
      "cell_type": "markdown",
      "source": [
        "#Introduccion y exploracion de datos\n",
        "\n",
        "El objetivo de esta practica es de crear grupos de clientes, segmentandolos a partir de atributos que estos tienen. A fin de poder optimizar estrategias de venta. Para esta practica, de aprendizaje no supervisado, se emplea un modelo de k-medias, pero no sin antes explorar un poco los datos, limpiarlos y transformarlos. Al final se logra un perfilado de segmentos y se describen un poco."
      ],
      "metadata": {
        "id": "X-K_KEYsPb5b"
      }
    },
    {
      "cell_type": "code",
      "source": [
        "import pandas as pd\n",
        "from sklearn.cluster import KMeans\n",
        "from sklearn.preprocessing import StandardScaler\n",
        "import numpy as np\n",
        "from matplotlib import pyplot as plt\n",
        "from numpy.lib.function_base import blackman\n",
        "import random"
      ],
      "metadata": {
        "id": "TxGd5YJvPO_0"
      },
      "execution_count": null,
      "outputs": []
    },
    {
      "cell_type": "code",
      "source": [
        "df = pd.read_csv('customer_data_sub.csv',delimiter=\";\")\n",
        "df.head()"
      ],
      "metadata": {
        "colab": {
          "base_uri": "https://localhost:8080/",
          "height": 206
        },
        "id": "mKI664QNscUZ",
        "outputId": "37f342d6-fb7e-49e7-cd9b-64494b53332d"
      },
      "execution_count": null,
      "outputs": [
        {
          "output_type": "execute_result",
          "data": {
            "text/plain": [
              "       ID  Gender Ever_Married  Age Graduated     Profession  Work_Experience  \\\n",
              "0  462809    Male           No   22        No     Healthcare             10.0   \n",
              "1  462643  Female          Yes   38       Yes       Engineer              NaN   \n",
              "2  466315  Female          Yes   67       Yes       Engineer             10.0   \n",
              "3  461735    Male          Yes   67       Yes         Lawyer              0.0   \n",
              "4  462669  Female          Yes   40       Yes  Entertainment              NaN   \n",
              "\n",
              "  Spending_Score  Family_Size  \n",
              "0            Low         40.0  \n",
              "1        Average         30.0  \n",
              "2            Low         10.0  \n",
              "3           High         20.0  \n",
              "4           High         60.0  "
            ],
            "text/html": [
              "\n",
              "  <div id=\"df-cacde058-d5f9-40a6-a3f8-2c2325d5c1f0\">\n",
              "    <div class=\"colab-df-container\">\n",
              "      <div>\n",
              "<style scoped>\n",
              "    .dataframe tbody tr th:only-of-type {\n",
              "        vertical-align: middle;\n",
              "    }\n",
              "\n",
              "    .dataframe tbody tr th {\n",
              "        vertical-align: top;\n",
              "    }\n",
              "\n",
              "    .dataframe thead th {\n",
              "        text-align: right;\n",
              "    }\n",
              "</style>\n",
              "<table border=\"1\" class=\"dataframe\">\n",
              "  <thead>\n",
              "    <tr style=\"text-align: right;\">\n",
              "      <th></th>\n",
              "      <th>ID</th>\n",
              "      <th>Gender</th>\n",
              "      <th>Ever_Married</th>\n",
              "      <th>Age</th>\n",
              "      <th>Graduated</th>\n",
              "      <th>Profession</th>\n",
              "      <th>Work_Experience</th>\n",
              "      <th>Spending_Score</th>\n",
              "      <th>Family_Size</th>\n",
              "    </tr>\n",
              "  </thead>\n",
              "  <tbody>\n",
              "    <tr>\n",
              "      <th>0</th>\n",
              "      <td>462809</td>\n",
              "      <td>Male</td>\n",
              "      <td>No</td>\n",
              "      <td>22</td>\n",
              "      <td>No</td>\n",
              "      <td>Healthcare</td>\n",
              "      <td>10.0</td>\n",
              "      <td>Low</td>\n",
              "      <td>40.0</td>\n",
              "    </tr>\n",
              "    <tr>\n",
              "      <th>1</th>\n",
              "      <td>462643</td>\n",
              "      <td>Female</td>\n",
              "      <td>Yes</td>\n",
              "      <td>38</td>\n",
              "      <td>Yes</td>\n",
              "      <td>Engineer</td>\n",
              "      <td>NaN</td>\n",
              "      <td>Average</td>\n",
              "      <td>30.0</td>\n",
              "    </tr>\n",
              "    <tr>\n",
              "      <th>2</th>\n",
              "      <td>466315</td>\n",
              "      <td>Female</td>\n",
              "      <td>Yes</td>\n",
              "      <td>67</td>\n",
              "      <td>Yes</td>\n",
              "      <td>Engineer</td>\n",
              "      <td>10.0</td>\n",
              "      <td>Low</td>\n",
              "      <td>10.0</td>\n",
              "    </tr>\n",
              "    <tr>\n",
              "      <th>3</th>\n",
              "      <td>461735</td>\n",
              "      <td>Male</td>\n",
              "      <td>Yes</td>\n",
              "      <td>67</td>\n",
              "      <td>Yes</td>\n",
              "      <td>Lawyer</td>\n",
              "      <td>0.0</td>\n",
              "      <td>High</td>\n",
              "      <td>20.0</td>\n",
              "    </tr>\n",
              "    <tr>\n",
              "      <th>4</th>\n",
              "      <td>462669</td>\n",
              "      <td>Female</td>\n",
              "      <td>Yes</td>\n",
              "      <td>40</td>\n",
              "      <td>Yes</td>\n",
              "      <td>Entertainment</td>\n",
              "      <td>NaN</td>\n",
              "      <td>High</td>\n",
              "      <td>60.0</td>\n",
              "    </tr>\n",
              "  </tbody>\n",
              "</table>\n",
              "</div>\n",
              "      <button class=\"colab-df-convert\" onclick=\"convertToInteractive('df-cacde058-d5f9-40a6-a3f8-2c2325d5c1f0')\"\n",
              "              title=\"Convert this dataframe to an interactive table.\"\n",
              "              style=\"display:none;\">\n",
              "        \n",
              "  <svg xmlns=\"http://www.w3.org/2000/svg\" height=\"24px\"viewBox=\"0 0 24 24\"\n",
              "       width=\"24px\">\n",
              "    <path d=\"M0 0h24v24H0V0z\" fill=\"none\"/>\n",
              "    <path d=\"M18.56 5.44l.94 2.06.94-2.06 2.06-.94-2.06-.94-.94-2.06-.94 2.06-2.06.94zm-11 1L8.5 8.5l.94-2.06 2.06-.94-2.06-.94L8.5 2.5l-.94 2.06-2.06.94zm10 10l.94 2.06.94-2.06 2.06-.94-2.06-.94-.94-2.06-.94 2.06-2.06.94z\"/><path d=\"M17.41 7.96l-1.37-1.37c-.4-.4-.92-.59-1.43-.59-.52 0-1.04.2-1.43.59L10.3 9.45l-7.72 7.72c-.78.78-.78 2.05 0 2.83L4 21.41c.39.39.9.59 1.41.59.51 0 1.02-.2 1.41-.59l7.78-7.78 2.81-2.81c.8-.78.8-2.07 0-2.86zM5.41 20L4 18.59l7.72-7.72 1.47 1.35L5.41 20z\"/>\n",
              "  </svg>\n",
              "      </button>\n",
              "      \n",
              "  <style>\n",
              "    .colab-df-container {\n",
              "      display:flex;\n",
              "      flex-wrap:wrap;\n",
              "      gap: 12px;\n",
              "    }\n",
              "\n",
              "    .colab-df-convert {\n",
              "      background-color: #E8F0FE;\n",
              "      border: none;\n",
              "      border-radius: 50%;\n",
              "      cursor: pointer;\n",
              "      display: none;\n",
              "      fill: #1967D2;\n",
              "      height: 32px;\n",
              "      padding: 0 0 0 0;\n",
              "      width: 32px;\n",
              "    }\n",
              "\n",
              "    .colab-df-convert:hover {\n",
              "      background-color: #E2EBFA;\n",
              "      box-shadow: 0px 1px 2px rgba(60, 64, 67, 0.3), 0px 1px 3px 1px rgba(60, 64, 67, 0.15);\n",
              "      fill: #174EA6;\n",
              "    }\n",
              "\n",
              "    [theme=dark] .colab-df-convert {\n",
              "      background-color: #3B4455;\n",
              "      fill: #D2E3FC;\n",
              "    }\n",
              "\n",
              "    [theme=dark] .colab-df-convert:hover {\n",
              "      background-color: #434B5C;\n",
              "      box-shadow: 0px 1px 3px 1px rgba(0, 0, 0, 0.15);\n",
              "      filter: drop-shadow(0px 1px 2px rgba(0, 0, 0, 0.3));\n",
              "      fill: #FFFFFF;\n",
              "    }\n",
              "  </style>\n",
              "\n",
              "      <script>\n",
              "        const buttonEl =\n",
              "          document.querySelector('#df-cacde058-d5f9-40a6-a3f8-2c2325d5c1f0 button.colab-df-convert');\n",
              "        buttonEl.style.display =\n",
              "          google.colab.kernel.accessAllowed ? 'block' : 'none';\n",
              "\n",
              "        async function convertToInteractive(key) {\n",
              "          const element = document.querySelector('#df-cacde058-d5f9-40a6-a3f8-2c2325d5c1f0');\n",
              "          const dataTable =\n",
              "            await google.colab.kernel.invokeFunction('convertToInteractive',\n",
              "                                                     [key], {});\n",
              "          if (!dataTable) return;\n",
              "\n",
              "          const docLinkHtml = 'Like what you see? Visit the ' +\n",
              "            '<a target=\"_blank\" href=https://colab.research.google.com/notebooks/data_table.ipynb>data table notebook</a>'\n",
              "            + ' to learn more about interactive tables.';\n",
              "          element.innerHTML = '';\n",
              "          dataTable['output_type'] = 'display_data';\n",
              "          await google.colab.output.renderOutput(dataTable, element);\n",
              "          const docLink = document.createElement('div');\n",
              "          docLink.innerHTML = docLinkHtml;\n",
              "          element.appendChild(docLink);\n",
              "        }\n",
              "      </script>\n",
              "    </div>\n",
              "  </div>\n",
              "  "
            ]
          },
          "metadata": {},
          "execution_count": 150
        }
      ]
    },
    {
      "cell_type": "markdown",
      "source": [
        "**Exploracion**\n",
        "\n",
        "Primero revisamos aquellos valores unicos de las variables categoricas, para saber que podemos esperar."
      ],
      "metadata": {
        "id": "dWeE5qD_Lz_5"
      }
    },
    {
      "cell_type": "code",
      "source": [
        "print(\"Gender\",df.Gender.unique())\n",
        "print(\"Ever_Married\",df.Ever_Married.unique())\n",
        "print(\"Graduated\",df.Graduated.unique())\n",
        "print(\"Profession\",df.Profession.unique())\n",
        "print(\"Spending_Score\",df.Spending_Score.unique())"
      ],
      "metadata": {
        "colab": {
          "base_uri": "https://localhost:8080/"
        },
        "id": "ooTVU-1BhgoT",
        "outputId": "4007506e-c22a-466e-815b-0817fdf19ca1"
      },
      "execution_count": null,
      "outputs": [
        {
          "output_type": "stream",
          "name": "stdout",
          "text": [
            "Gender ['Male' 'Female']\n",
            "Ever_Married ['No' 'Yes' nan]\n",
            "Graduated ['No' 'Yes' nan]\n",
            "Profession ['Healthcare' 'Engineer' 'Lawyer' 'Entertainment' 'Artist' 'Executive'\n",
            " 'Doctor' 'Homemaker' 'Marketing' nan]\n",
            "Spending_Score ['Low' 'Average' 'High']\n"
          ]
        }
      ]
    },
    {
      "cell_type": "code",
      "source": [
        "def my_fmt(x):\n",
        "    return '{:.4f}%\\n({:.0f})'.format(x, len(dfp)*x/100)"
      ],
      "metadata": {
        "id": "nbG7TbiSQQzh"
      },
      "execution_count": null,
      "outputs": []
    },
    {
      "cell_type": "markdown",
      "source": [
        "Las 3 graficas de pastel de abajo nos explican un poco la distribucion de los datos, en general hay mas hombres, mas personas que se han casado y mas personas que se han graduado."
      ],
      "metadata": {
        "id": "ktrBqJYwMYUy"
      }
    },
    {
      "cell_type": "code",
      "source": [
        "fig, ax = plt.subplots(1, 3,figsize=(10, 5))\n",
        "\n",
        "dfp = df[df.Gender.notnull()]\n",
        "ax[0].set_title('Genero')\n",
        "ax[0].pie(dfp.groupby(['Gender']).size(), autopct=my_fmt,labels=['Female','Male'])\n",
        "\n",
        "dfp = df[df.Ever_Married.notnull()]\n",
        "ax[1].set_title('Casado')\n",
        "ax[1].pie(dfp.groupby(['Ever_Married']).size(),autopct=my_fmt,labels=['No','Yes'])\n",
        "\n",
        "dfp = df[df.Graduated.notnull()]\n",
        "ax[2].set_title('Graduado')\n",
        "ax[2].pie(dfp.groupby(['Graduated']).size(),autopct=my_fmt,labels=['No','Yes'])\n",
        "\n",
        "plt.show()"
      ],
      "metadata": {
        "colab": {
          "base_uri": "https://localhost:8080/",
          "height": 211
        },
        "id": "HvvoeUIwcn-k",
        "outputId": "79689d31-2844-4f26-be38-c8a45109a670"
      },
      "execution_count": null,
      "outputs": [
        {
          "output_type": "display_data",
          "data": {
            "text/plain": [
              "<Figure size 720x360 with 3 Axes>"
            ],
            "image/png": "[encoded data removed]"
          },
          "metadata": {}
        }
      ]
    },
    {
      "cell_type": "markdown",
      "source": [
        "Como podemos observar en la grafica de abajo, las 3 profesiones mas populares son: en primer lugar artista con un 31%, seguido de healthcare con casi 17% y por ultimo entretenimiento con 12%. "
      ],
      "metadata": {
        "id": "7W4wXKc5M93b"
      }
    },
    {
      "cell_type": "code",
      "source": [
        "dfp = df[df.Profession.notnull()]\n",
        "dfp.groupby(['Profession']).size().plot.pie(autopct=my_fmt,figsize=(8,8))\n",
        "plt.title('Profesion')\n",
        "plt.ylabel('')"
      ],
      "metadata": {
        "colab": {
          "base_uri": "https://localhost:8080/",
          "height": 500
        },
        "id": "hP-BDdvef9Ph",
        "outputId": "e257dc45-ffda-458d-c040-eb817ff70d9b"
      },
      "execution_count": null,
      "outputs": [
        {
          "output_type": "execute_result",
          "data": {
            "text/plain": [
              "Text(0, 0.5, '')"
            ]
          },
          "metadata": {},
          "execution_count": 124
        },
        {
          "output_type": "display_data",
          "data": {
            "text/plain": [
              "<Figure size 576x576 with 1 Axes>"
            ],
            "image/png": "[encoded data removed]"
          },
          "metadata": {}
        }
      ]
    },
    {
      "cell_type": "markdown",
      "source": [
        "Con esta siguiente grafica observamos que la mayoria de personas tiene un puntaje gasto bajo, 24% son nivel medio y el 15% alto."
      ],
      "metadata": {
        "id": "YJfmWkCbOxkC"
      }
    },
    {
      "cell_type": "code",
      "source": [
        "dfp = df[df.Spending_Score.notnull()]\n",
        "dfp.groupby(['Spending_Score']).size().plot.pie(autopct=my_fmt,figsize=(4,4))\n",
        "plt.title('Puntuaciones de gasto')\n",
        "plt.ylabel('')"
      ],
      "metadata": {
        "colab": {
          "base_uri": "https://localhost:8080/",
          "height": 282
        },
        "id": "5qR3meOagpSY",
        "outputId": "85b7f11e-7551-4bb8-9ca5-ca69ceab19ad"
      },
      "execution_count": null,
      "outputs": [
        {
          "output_type": "execute_result",
          "data": {
            "text/plain": [
              "Text(0, 0.5, '')"
            ]
          },
          "metadata": {},
          "execution_count": 125
        },
        {
          "output_type": "display_data",
          "data": {
            "text/plain": [
              "<Figure size 288x288 with 1 Axes>"
            ],
            "image/png": "[encoded data removed]"
          },
          "metadata": {}
        }
      ]
    },
    {
      "cell_type": "markdown",
      "source": [
        "Los histogramas de abajo nos dicen lo siguiente: \n",
        "\n",
        "\n",
        "*   Hay mas clientes entre las edades de 25 y 50, de 60 en adelante pocos.\n",
        "*   Mas de la mitad de las personas tienen un rango de experiencia de trabajo de 0 a 15 años solamente.\n",
        "\n",
        "*   La distribucion de los datos muestra que el tamaño de las familias primero sube y despues va bajando lentamente.\n",
        "\n",
        "\n",
        "\n"
      ],
      "metadata": {
        "id": "54hB1O4SPLDG"
      }
    },
    {
      "cell_type": "code",
      "source": [
        "df.loc[:, df.columns != 'ID'].hist(figsize=(8,8))"
      ],
      "metadata": {
        "colab": {
          "base_uri": "https://localhost:8080/",
          "height": 590
        },
        "id": "rxzqWKb6EZYP",
        "outputId": "762c35aa-a533-47ca-fdc4-3046f96f03c9"
      },
      "execution_count": null,
      "outputs": [
        {
          "output_type": "execute_result",
          "data": {
            "text/plain": [
              "array([[<matplotlib.axes._subplots.AxesSubplot object at 0x7f0e8760b0d0>,\n",
              "        <matplotlib.axes._subplots.AxesSubplot object at 0x7f0e8762c910>],\n",
              "       [<matplotlib.axes._subplots.AxesSubplot object at 0x7f0e875d7fa0>,\n",
              "        <matplotlib.axes._subplots.AxesSubplot object at 0x7f0e8758f4f0>]],\n",
              "      dtype=object)"
            ]
          },
          "metadata": {},
          "execution_count": 126
        },
        {
          "output_type": "display_data",
          "data": {
            "text/plain": [
              "<Figure size 576x576 with 4 Axes>"
            ],
            "image/png": "[encoded data removed]"
          },
          "metadata": {
            "needs_background": "light"
          }
        }
      ]
    },
    {
      "cell_type": "markdown",
      "source": [
        "#Preparacion de datos\n",
        "\n",
        "Aqui aplicamos las transformaciones a las variables categóricas. Hombres seran representados con 1 y mujeres con 0. Yes sera representado con 1 y No con 0. De acuerdo a la siguiente lista: ['Healthcare' 'Engineer' 'Lawyer' 'Entertainment' 'Artist' 'Executive'\n",
        " 'Doctor' 'Homemaker' 'Marketing'], las profesiones seran enumeradas, del 0 al 8. Y por ultimo, Low, Average, High seran 0, 1, 2 en ese orden. "
      ],
      "metadata": {
        "id": "WjFQ9cjBUpft"
      }
    },
    {
      "cell_type": "code",
      "source": [
        "df['Gender'].replace(['Male', 'Female'], [1, 0], inplace=True)\n",
        "df['Ever_Married'].replace(['Yes', 'No'], [1, 0], inplace=True)\n",
        "df['Graduated'].replace(['Yes', 'No'], [1, 0], inplace=True)\n",
        "df['Profession'].replace(['Healthcare', 'Engineer', 'Lawyer', \n",
        "                          'Entertainment', 'Artist', 'Executive','Doctor', \n",
        "                          'Homemaker', 'Marketing'], [0,1,2,3,4,5,6,7,8], inplace=True)\n",
        "df['Spending_Score'].replace(['Low', 'Average', 'High'], [0,1,2], inplace=True)"
      ],
      "metadata": {
        "id": "9MPJks98-zNn"
      },
      "execution_count": null,
      "outputs": []
    },
    {
      "cell_type": "markdown",
      "source": [
        "Podemos ahora analizar todos los datos con la funcion describe."
      ],
      "metadata": {
        "id": "MEgiprYaVr8s"
      }
    },
    {
      "cell_type": "code",
      "source": [
        "df.describe()"
      ],
      "metadata": {
        "colab": {
          "base_uri": "https://localhost:8080/",
          "height": 300
        },
        "id": "PcC_IaT_st_w",
        "outputId": "a86a4779-b09b-4ee4-a49a-8ead97cdd50c"
      },
      "execution_count": null,
      "outputs": [
        {
          "output_type": "execute_result",
          "data": {
            "text/plain": [
              "                  ID       Gender  Ever_Married          Age    Graduated  \\\n",
              "count    8068.000000  8068.000000   7928.000000  8068.000000  7990.000000   \n",
              "mean   463479.214551     0.547471      0.585646    43.466906     0.621777   \n",
              "std      2595.381232     0.497772      0.492641    16.711696     0.484974   \n",
              "min    458982.000000     0.000000      0.000000    18.000000     0.000000   \n",
              "25%    461240.750000     0.000000      0.000000    30.000000     0.000000   \n",
              "50%    463472.500000     1.000000      1.000000    40.000000     1.000000   \n",
              "75%    465744.250000     1.000000      1.000000    53.000000     1.000000   \n",
              "max    467974.000000     1.000000      1.000000    89.000000     1.000000   \n",
              "\n",
              "        Profession  Work_Experience  Spending_Score  Family_Size  \n",
              "count  7944.000000      7239.000000     8068.000000  7733.000000  \n",
              "mean      3.277568        26.416632        0.546108    28.501229  \n",
              "std       2.162217        34.067630        0.741202    15.314133  \n",
              "min       0.000000         0.000000        0.000000    10.000000  \n",
              "25%       1.000000         0.000000        0.000000    20.000000  \n",
              "50%       4.000000        10.000000        0.000000    30.000000  \n",
              "75%       4.000000        40.000000        1.000000    40.000000  \n",
              "max       8.000000       140.000000        2.000000    90.000000  "
            ],
            "text/html": [
              "\n",
              "  <div id=\"df-d5c92dd0-414d-441d-b930-543f91c829be\">\n",
              "    <div class=\"colab-df-container\">\n",
              "      <div>\n",
              "<style scoped>\n",
              "    .dataframe tbody tr th:only-of-type {\n",
              "        vertical-align: middle;\n",
              "    }\n",
              "\n",
              "    .dataframe tbody tr th {\n",
              "        vertical-align: top;\n",
              "    }\n",
              "\n",
              "    .dataframe thead th {\n",
              "        text-align: right;\n",
              "    }\n",
              "</style>\n",
              "<table border=\"1\" class=\"dataframe\">\n",
              "  <thead>\n",
              "    <tr style=\"text-align: right;\">\n",
              "      <th></th>\n",
              "      <th>ID</th>\n",
              "      <th>Gender</th>\n",
              "      <th>Ever_Married</th>\n",
              "      <th>Age</th>\n",
              "      <th>Graduated</th>\n",
              "      <th>Profession</th>\n",
              "      <th>Work_Experience</th>\n",
              "      <th>Spending_Score</th>\n",
              "      <th>Family_Size</th>\n",
              "    </tr>\n",
              "  </thead>\n",
              "  <tbody>\n",
              "    <tr>\n",
              "      <th>count</th>\n",
              "      <td>8068.000000</td>\n",
              "      <td>8068.000000</td>\n",
              "      <td>7928.000000</td>\n",
              "      <td>8068.000000</td>\n",
              "      <td>7990.000000</td>\n",
              "      <td>7944.000000</td>\n",
              "      <td>7239.000000</td>\n",
              "      <td>8068.000000</td>\n",
              "      <td>7733.000000</td>\n",
              "    </tr>\n",
              "    <tr>\n",
              "      <th>mean</th>\n",
              "      <td>463479.214551</td>\n",
              "      <td>0.547471</td>\n",
              "      <td>0.585646</td>\n",
              "      <td>43.466906</td>\n",
              "      <td>0.621777</td>\n",
              "      <td>3.277568</td>\n",
              "      <td>26.416632</td>\n",
              "      <td>0.546108</td>\n",
              "      <td>28.501229</td>\n",
              "    </tr>\n",
              "    <tr>\n",
              "      <th>std</th>\n",
              "      <td>2595.381232</td>\n",
              "      <td>0.497772</td>\n",
              "      <td>0.492641</td>\n",
              "      <td>16.711696</td>\n",
              "      <td>0.484974</td>\n",
              "      <td>2.162217</td>\n",
              "      <td>34.067630</td>\n",
              "      <td>0.741202</td>\n",
              "      <td>15.314133</td>\n",
              "    </tr>\n",
              "    <tr>\n",
              "      <th>min</th>\n",
              "      <td>458982.000000</td>\n",
              "      <td>0.000000</td>\n",
              "      <td>0.000000</td>\n",
              "      <td>18.000000</td>\n",
              "      <td>0.000000</td>\n",
              "      <td>0.000000</td>\n",
              "      <td>0.000000</td>\n",
              "      <td>0.000000</td>\n",
              "      <td>10.000000</td>\n",
              "    </tr>\n",
              "    <tr>\n",
              "      <th>25%</th>\n",
              "      <td>461240.750000</td>\n",
              "      <td>0.000000</td>\n",
              "      <td>0.000000</td>\n",
              "      <td>30.000000</td>\n",
              "      <td>0.000000</td>\n",
              "      <td>1.000000</td>\n",
              "      <td>0.000000</td>\n",
              "      <td>0.000000</td>\n",
              "      <td>20.000000</td>\n",
              "    </tr>\n",
              "    <tr>\n",
              "      <th>50%</th>\n",
              "      <td>463472.500000</td>\n",
              "      <td>1.000000</td>\n",
              "      <td>1.000000</td>\n",
              "      <td>40.000000</td>\n",
              "      <td>1.000000</td>\n",
              "      <td>4.000000</td>\n",
              "      <td>10.000000</td>\n",
              "      <td>0.000000</td>\n",
              "      <td>30.000000</td>\n",
              "    </tr>\n",
              "    <tr>\n",
              "      <th>75%</th>\n",
              "      <td>465744.250000</td>\n",
              "      <td>1.000000</td>\n",
              "      <td>1.000000</td>\n",
              "      <td>53.000000</td>\n",
              "      <td>1.000000</td>\n",
              "      <td>4.000000</td>\n",
              "      <td>40.000000</td>\n",
              "      <td>1.000000</td>\n",
              "      <td>40.000000</td>\n",
              "    </tr>\n",
              "    <tr>\n",
              "      <th>max</th>\n",
              "      <td>467974.000000</td>\n",
              "      <td>1.000000</td>\n",
              "      <td>1.000000</td>\n",
              "      <td>89.000000</td>\n",
              "      <td>1.000000</td>\n",
              "      <td>8.000000</td>\n",
              "      <td>140.000000</td>\n",
              "      <td>2.000000</td>\n",
              "      <td>90.000000</td>\n",
              "    </tr>\n",
              "  </tbody>\n",
              "</table>\n",
              "</div>\n",
              "      <button class=\"colab-df-convert\" onclick=\"convertToInteractive('df-d5c92dd0-414d-441d-b930-543f91c829be')\"\n",
              "              title=\"Convert this dataframe to an interactive table.\"\n",
              "              style=\"display:none;\">\n",
              "        \n",
              "  <svg xmlns=\"http://www.w3.org/2000/svg\" height=\"24px\"viewBox=\"0 0 24 24\"\n",
              "       width=\"24px\">\n",
              "    <path d=\"M0 0h24v24H0V0z\" fill=\"none\"/>\n",
              "    <path d=\"M18.56 5.44l.94 2.06.94-2.06 2.06-.94-2.06-.94-.94-2.06-.94 2.06-2.06.94zm-11 1L8.5 8.5l.94-2.06 2.06-.94-2.06-.94L8.5 2.5l-.94 2.06-2.06.94zm10 10l.94 2.06.94-2.06 2.06-.94-2.06-.94-.94-2.06-.94 2.06-2.06.94z\"/><path d=\"M17.41 7.96l-1.37-1.37c-.4-.4-.92-.59-1.43-.59-.52 0-1.04.2-1.43.59L10.3 9.45l-7.72 7.72c-.78.78-.78 2.05 0 2.83L4 21.41c.39.39.9.59 1.41.59.51 0 1.02-.2 1.41-.59l7.78-7.78 2.81-2.81c.8-.78.8-2.07 0-2.86zM5.41 20L4 18.59l7.72-7.72 1.47 1.35L5.41 20z\"/>\n",
              "  </svg>\n",
              "      </button>\n",
              "      \n",
              "  <style>\n",
              "    .colab-df-container {\n",
              "      display:flex;\n",
              "      flex-wrap:wrap;\n",
              "      gap: 12px;\n",
              "    }\n",
              "\n",
              "    .colab-df-convert {\n",
              "      background-color: #E8F0FE;\n",
              "      border: none;\n",
              "      border-radius: 50%;\n",
              "      cursor: pointer;\n",
              "      display: none;\n",
              "      fill: #1967D2;\n",
              "      height: 32px;\n",
              "      padding: 0 0 0 0;\n",
              "      width: 32px;\n",
              "    }\n",
              "\n",
              "    .colab-df-convert:hover {\n",
              "      background-color: #E2EBFA;\n",
              "      box-shadow: 0px 1px 2px rgba(60, 64, 67, 0.3), 0px 1px 3px 1px rgba(60, 64, 67, 0.15);\n",
              "      fill: #174EA6;\n",
              "    }\n",
              "\n",
              "    [theme=dark] .colab-df-convert {\n",
              "      background-color: #3B4455;\n",
              "      fill: #D2E3FC;\n",
              "    }\n",
              "\n",
              "    [theme=dark] .colab-df-convert:hover {\n",
              "      background-color: #434B5C;\n",
              "      box-shadow: 0px 1px 3px 1px rgba(0, 0, 0, 0.15);\n",
              "      filter: drop-shadow(0px 1px 2px rgba(0, 0, 0, 0.3));\n",
              "      fill: #FFFFFF;\n",
              "    }\n",
              "  </style>\n",
              "\n",
              "      <script>\n",
              "        const buttonEl =\n",
              "          document.querySelector('#df-d5c92dd0-414d-441d-b930-543f91c829be button.colab-df-convert');\n",
              "        buttonEl.style.display =\n",
              "          google.colab.kernel.accessAllowed ? 'block' : 'none';\n",
              "\n",
              "        async function convertToInteractive(key) {\n",
              "          const element = document.querySelector('#df-d5c92dd0-414d-441d-b930-543f91c829be');\n",
              "          const dataTable =\n",
              "            await google.colab.kernel.invokeFunction('convertToInteractive',\n",
              "                                                     [key], {});\n",
              "          if (!dataTable) return;\n",
              "\n",
              "          const docLinkHtml = 'Like what you see? Visit the ' +\n",
              "            '<a target=\"_blank\" href=https://colab.research.google.com/notebooks/data_table.ipynb>data table notebook</a>'\n",
              "            + ' to learn more about interactive tables.';\n",
              "          element.innerHTML = '';\n",
              "          dataTable['output_type'] = 'display_data';\n",
              "          await google.colab.output.renderOutput(dataTable, element);\n",
              "          const docLink = document.createElement('div');\n",
              "          docLink.innerHTML = docLinkHtml;\n",
              "          element.appendChild(docLink);\n",
              "        }\n",
              "      </script>\n",
              "    </div>\n",
              "  </div>\n",
              "  "
            ]
          },
          "metadata": {},
          "execution_count": 128
        }
      ]
    },
    {
      "cell_type": "markdown",
      "source": [
        "Nos olvidamos de la columna ID, pues no aporta informacion importante para este ejercicio."
      ],
      "metadata": {
        "id": "dZnDk2bDHVeU"
      }
    },
    {
      "cell_type": "code",
      "source": [
        "sdf = df[[\"Gender\", \"Ever_Married\",\t\"Age\",\t\"Graduated\",\t\"Profession\",\t\"Work_Experience\",\t\"Spending_Score\",\t\"Family_Size\"]]\n",
        "sdf.head()"
      ],
      "metadata": {
        "colab": {
          "base_uri": "https://localhost:8080/",
          "height": 206
        },
        "id": "IXKY7z8UtmoP",
        "outputId": "87f0f73f-394d-4360-9d75-c285948d46bc"
      },
      "execution_count": null,
      "outputs": [
        {
          "output_type": "execute_result",
          "data": {
            "text/plain": [
              "   Gender  Ever_Married  Age  Graduated  Profession  Work_Experience  \\\n",
              "0       1           0.0   22        0.0         0.0             10.0   \n",
              "1       0           1.0   38        1.0         1.0              NaN   \n",
              "2       0           1.0   67        1.0         1.0             10.0   \n",
              "3       1           1.0   67        1.0         2.0              0.0   \n",
              "4       0           1.0   40        1.0         3.0              NaN   \n",
              "\n",
              "   Spending_Score  Family_Size  \n",
              "0               0         40.0  \n",
              "1               1         30.0  \n",
              "2               0         10.0  \n",
              "3               2         20.0  \n",
              "4               2         60.0  "
            ],
            "text/html": [
              "\n",
              "  <div id=\"df-2f63289c-8551-4844-bd2f-3c7e9d4c5e57\">\n",
              "    <div class=\"colab-df-container\">\n",
              "      <div>\n",
              "<style scoped>\n",
              "    .dataframe tbody tr th:only-of-type {\n",
              "        vertical-align: middle;\n",
              "    }\n",
              "\n",
              "    .dataframe tbody tr th {\n",
              "        vertical-align: top;\n",
              "    }\n",
              "\n",
              "    .dataframe thead th {\n",
              "        text-align: right;\n",
              "    }\n",
              "</style>\n",
              "<table border=\"1\" class=\"dataframe\">\n",
              "  <thead>\n",
              "    <tr style=\"text-align: right;\">\n",
              "      <th></th>\n",
              "      <th>Gender</th>\n",
              "      <th>Ever_Married</th>\n",
              "      <th>Age</th>\n",
              "      <th>Graduated</th>\n",
              "      <th>Profession</th>\n",
              "      <th>Work_Experience</th>\n",
              "      <th>Spending_Score</th>\n",
              "      <th>Family_Size</th>\n",
              "    </tr>\n",
              "  </thead>\n",
              "  <tbody>\n",
              "    <tr>\n",
              "      <th>0</th>\n",
              "      <td>1</td>\n",
              "      <td>0.0</td>\n",
              "      <td>22</td>\n",
              "      <td>0.0</td>\n",
              "      <td>0.0</td>\n",
              "      <td>10.0</td>\n",
              "      <td>0</td>\n",
              "      <td>40.0</td>\n",
              "    </tr>\n",
              "    <tr>\n",
              "      <th>1</th>\n",
              "      <td>0</td>\n",
              "      <td>1.0</td>\n",
              "      <td>38</td>\n",
              "      <td>1.0</td>\n",
              "      <td>1.0</td>\n",
              "      <td>NaN</td>\n",
              "      <td>1</td>\n",
              "      <td>30.0</td>\n",
              "    </tr>\n",
              "    <tr>\n",
              "      <th>2</th>\n",
              "      <td>0</td>\n",
              "      <td>1.0</td>\n",
              "      <td>67</td>\n",
              "      <td>1.0</td>\n",
              "      <td>1.0</td>\n",
              "      <td>10.0</td>\n",
              "      <td>0</td>\n",
              "      <td>10.0</td>\n",
              "    </tr>\n",
              "    <tr>\n",
              "      <th>3</th>\n",
              "      <td>1</td>\n",
              "      <td>1.0</td>\n",
              "      <td>67</td>\n",
              "      <td>1.0</td>\n",
              "      <td>2.0</td>\n",
              "      <td>0.0</td>\n",
              "      <td>2</td>\n",
              "      <td>20.0</td>\n",
              "    </tr>\n",
              "    <tr>\n",
              "      <th>4</th>\n",
              "      <td>0</td>\n",
              "      <td>1.0</td>\n",
              "      <td>40</td>\n",
              "      <td>1.0</td>\n",
              "      <td>3.0</td>\n",
              "      <td>NaN</td>\n",
              "      <td>2</td>\n",
              "      <td>60.0</td>\n",
              "    </tr>\n",
              "  </tbody>\n",
              "</table>\n",
              "</div>\n",
              "      <button class=\"colab-df-convert\" onclick=\"convertToInteractive('df-2f63289c-8551-4844-bd2f-3c7e9d4c5e57')\"\n",
              "              title=\"Convert this dataframe to an interactive table.\"\n",
              "              style=\"display:none;\">\n",
              "        \n",
              "  <svg xmlns=\"http://www.w3.org/2000/svg\" height=\"24px\"viewBox=\"0 0 24 24\"\n",
              "       width=\"24px\">\n",
              "    <path d=\"M0 0h24v24H0V0z\" fill=\"none\"/>\n",
              "    <path d=\"M18.56 5.44l.94 2.06.94-2.06 2.06-.94-2.06-.94-.94-2.06-.94 2.06-2.06.94zm-11 1L8.5 8.5l.94-2.06 2.06-.94-2.06-.94L8.5 2.5l-.94 2.06-2.06.94zm10 10l.94 2.06.94-2.06 2.06-.94-2.06-.94-.94-2.06-.94 2.06-2.06.94z\"/><path d=\"M17.41 7.96l-1.37-1.37c-.4-.4-.92-.59-1.43-.59-.52 0-1.04.2-1.43.59L10.3 9.45l-7.72 7.72c-.78.78-.78 2.05 0 2.83L4 21.41c.39.39.9.59 1.41.59.51 0 1.02-.2 1.41-.59l7.78-7.78 2.81-2.81c.8-.78.8-2.07 0-2.86zM5.41 20L4 18.59l7.72-7.72 1.47 1.35L5.41 20z\"/>\n",
              "  </svg>\n",
              "      </button>\n",
              "      \n",
              "  <style>\n",
              "    .colab-df-container {\n",
              "      display:flex;\n",
              "      flex-wrap:wrap;\n",
              "      gap: 12px;\n",
              "    }\n",
              "\n",
              "    .colab-df-convert {\n",
              "      background-color: #E8F0FE;\n",
              "      border: none;\n",
              "      border-radius: 50%;\n",
              "      cursor: pointer;\n",
              "      display: none;\n",
              "      fill: #1967D2;\n",
              "      height: 32px;\n",
              "      padding: 0 0 0 0;\n",
              "      width: 32px;\n",
              "    }\n",
              "\n",
              "    .colab-df-convert:hover {\n",
              "      background-color: #E2EBFA;\n",
              "      box-shadow: 0px 1px 2px rgba(60, 64, 67, 0.3), 0px 1px 3px 1px rgba(60, 64, 67, 0.15);\n",
              "      fill: #174EA6;\n",
              "    }\n",
              "\n",
              "    [theme=dark] .colab-df-convert {\n",
              "      background-color: #3B4455;\n",
              "      fill: #D2E3FC;\n",
              "    }\n",
              "\n",
              "    [theme=dark] .colab-df-convert:hover {\n",
              "      background-color: #434B5C;\n",
              "      box-shadow: 0px 1px 3px 1px rgba(0, 0, 0, 0.15);\n",
              "      filter: drop-shadow(0px 1px 2px rgba(0, 0, 0, 0.3));\n",
              "      fill: #FFFFFF;\n",
              "    }\n",
              "  </style>\n",
              "\n",
              "      <script>\n",
              "        const buttonEl =\n",
              "          document.querySelector('#df-2f63289c-8551-4844-bd2f-3c7e9d4c5e57 button.colab-df-convert');\n",
              "        buttonEl.style.display =\n",
              "          google.colab.kernel.accessAllowed ? 'block' : 'none';\n",
              "\n",
              "        async function convertToInteractive(key) {\n",
              "          const element = document.querySelector('#df-2f63289c-8551-4844-bd2f-3c7e9d4c5e57');\n",
              "          const dataTable =\n",
              "            await google.colab.kernel.invokeFunction('convertToInteractive',\n",
              "                                                     [key], {});\n",
              "          if (!dataTable) return;\n",
              "\n",
              "          const docLinkHtml = 'Like what you see? Visit the ' +\n",
              "            '<a target=\"_blank\" href=https://colab.research.google.com/notebooks/data_table.ipynb>data table notebook</a>'\n",
              "            + ' to learn more about interactive tables.';\n",
              "          element.innerHTML = '';\n",
              "          dataTable['output_type'] = 'display_data';\n",
              "          await google.colab.output.renderOutput(dataTable, element);\n",
              "          const docLink = document.createElement('div');\n",
              "          docLink.innerHTML = docLinkHtml;\n",
              "          element.appendChild(docLink);\n",
              "        }\n",
              "      </script>\n",
              "    </div>\n",
              "  </div>\n",
              "  "
            ]
          },
          "metadata": {},
          "execution_count": 152
        }
      ]
    },
    {
      "cell_type": "markdown",
      "source": [
        "Nos aseguramos que los tipos de datos son funcionales para las siguientes etapas."
      ],
      "metadata": {
        "id": "B53ziywWWc32"
      }
    },
    {
      "cell_type": "code",
      "source": [
        "sdf.info()"
      ],
      "metadata": {
        "colab": {
          "base_uri": "https://localhost:8080/"
        },
        "id": "lu7Bs_MD85mC",
        "outputId": "2955cc2f-e5f0-4b62-f80c-71edd5359d2b"
      },
      "execution_count": null,
      "outputs": [
        {
          "output_type": "stream",
          "name": "stdout",
          "text": [
            "<class 'pandas.core.frame.DataFrame'>\n",
            "RangeIndex: 8068 entries, 0 to 8067\n",
            "Data columns (total 8 columns):\n",
            " #   Column           Non-Null Count  Dtype  \n",
            "---  ------           --------------  -----  \n",
            " 0   Gender           8068 non-null   int64  \n",
            " 1   Ever_Married     7928 non-null   float64\n",
            " 2   Age              8068 non-null   int64  \n",
            " 3   Graduated        7990 non-null   float64\n",
            " 4   Profession       7944 non-null   float64\n",
            " 5   Work_Experience  7239 non-null   float64\n",
            " 6   Spending_Score   8068 non-null   int64  \n",
            " 7   Family_Size      7733 non-null   float64\n",
            "dtypes: float64(5), int64(3)\n",
            "memory usage: 504.4 KB\n"
          ]
        }
      ]
    },
    {
      "cell_type": "markdown",
      "source": [
        "**Datos Faltantes**\n",
        "\n",
        "Observamos el porcentaje de observaciones faltantes por columna y decidimos eliminar en su totalidad la columna \"Work_Experience\", pues 10% de sus observaciones estan vacias y podrian afectar si intentamos corregirlos."
      ],
      "metadata": {
        "id": "Yex_q4joWwGS"
      }
    },
    {
      "cell_type": "code",
      "source": [
        "sdf.isna().sum() * 100 / len(sdf)"
      ],
      "metadata": {
        "colab": {
          "base_uri": "https://localhost:8080/"
        },
        "id": "5LXwaLfYMBEm",
        "outputId": "f65c83b5-8f07-4ef1-c557-2092c7be47c2"
      },
      "execution_count": null,
      "outputs": [
        {
          "output_type": "execute_result",
          "data": {
            "text/plain": [
              "Gender              0.000000\n",
              "Ever_Married        1.735250\n",
              "Age                 0.000000\n",
              "Graduated           0.966782\n",
              "Profession          1.536936\n",
              "Work_Experience    10.275161\n",
              "Spending_Score      0.000000\n",
              "Family_Size         4.152206\n",
              "dtype: float64"
            ]
          },
          "metadata": {},
          "execution_count": 131
        }
      ]
    },
    {
      "cell_type": "code",
      "source": [
        "sdf.drop('Work_Experience',axis=1,inplace=True)"
      ],
      "metadata": {
        "colab": {
          "base_uri": "https://localhost:8080/"
        },
        "id": "opMKManGXa2o",
        "outputId": "9ea19a33-e3e6-4804-e886-d7d0ed8712c3"
      },
      "execution_count": null,
      "outputs": [
        {
          "output_type": "stream",
          "name": "stderr",
          "text": [
            "/usr/local/lib/python3.8/dist-packages/pandas/core/frame.py:4906: SettingWithCopyWarning: \n",
            "A value is trying to be set on a copy of a slice from a DataFrame\n",
            "\n",
            "See the caveats in the documentation: https://pandas.pydata.org/pandas-docs/stable/user_guide/indexing.html#returning-a-view-versus-a-copy\n",
            "  return super().drop(\n"
          ]
        }
      ]
    },
    {
      "cell_type": "markdown",
      "source": [
        "Para la variable Family_Size, podemos imputar la mediana a las observaciones faltantes."
      ],
      "metadata": {
        "id": "4O09mlliXgPv"
      }
    },
    {
      "cell_type": "code",
      "source": [
        "c_mediana = sdf.Family_Size.median()\n",
        "sdf = sdf.fillna({'Family_Size': c_mediana})"
      ],
      "metadata": {
        "id": "qh1ERX2ZSDkL"
      },
      "execution_count": null,
      "outputs": []
    },
    {
      "cell_type": "markdown",
      "source": [
        "Si revisamos las correlaciones de los datos, nos podemos dar cuenta de ciertos aspectos. Por ejemplo, la edad y el matrimonio son dos variables que se correlacionan, lo que nos quiere decir que las personas de mayor edad seguramente se habran casado y las personas jovenes no. "
      ],
      "metadata": {
        "id": "kw1BZJWUX5pv"
      }
    },
    {
      "cell_type": "code",
      "source": [
        "sdf.corr()"
      ],
      "metadata": {
        "colab": {
          "base_uri": "https://localhost:8080/",
          "height": 269
        },
        "id": "14X9fXu_YB8_",
        "outputId": "1a3babc1-092d-4d22-8373-84c566729d46"
      },
      "execution_count": null,
      "outputs": [
        {
          "output_type": "execute_result",
          "data": {
            "text/plain": [
              "                  Gender  Ever_Married       Age  Graduated  Profession  \\\n",
              "Gender          1.000000      0.116135  0.030216  -0.034109    0.031822   \n",
              "Ever_Married    0.116135      1.000000  0.567130   0.196893    0.201160   \n",
              "Age             0.030216      0.567130  1.000000   0.237309    0.130141   \n",
              "Graduated      -0.034109      0.196893  0.237309   1.000000    0.160252   \n",
              "Profession      0.031822      0.201160  0.130141   0.160252    1.000000   \n",
              "Spending_Score  0.061432      0.616406  0.415485   0.103468    0.146313   \n",
              "Family_Size     0.054059     -0.078144 -0.273373  -0.226733   -0.121153   \n",
              "\n",
              "                Spending_Score  Family_Size  \n",
              "Gender                0.061432     0.054059  \n",
              "Ever_Married          0.616406    -0.078144  \n",
              "Age                   0.415485    -0.273373  \n",
              "Graduated             0.103468    -0.226733  \n",
              "Profession            0.146313    -0.121153  \n",
              "Spending_Score        1.000000     0.090888  \n",
              "Family_Size           0.090888     1.000000  "
            ],
            "text/html": [
              "\n",
              "  <div id=\"df-149377bd-6923-41d0-aa46-4e378d0b2c63\">\n",
              "    <div class=\"colab-df-container\">\n",
              "      <div>\n",
              "<style scoped>\n",
              "    .dataframe tbody tr th:only-of-type {\n",
              "        vertical-align: middle;\n",
              "    }\n",
              "\n",
              "    .dataframe tbody tr th {\n",
              "        vertical-align: top;\n",
              "    }\n",
              "\n",
              "    .dataframe thead th {\n",
              "        text-align: right;\n",
              "    }\n",
              "</style>\n",
              "<table border=\"1\" class=\"dataframe\">\n",
              "  <thead>\n",
              "    <tr style=\"text-align: right;\">\n",
              "      <th></th>\n",
              "      <th>Gender</th>\n",
              "      <th>Ever_Married</th>\n",
              "      <th>Age</th>\n",
              "      <th>Graduated</th>\n",
              "      <th>Profession</th>\n",
              "      <th>Spending_Score</th>\n",
              "      <th>Family_Size</th>\n",
              "    </tr>\n",
              "  </thead>\n",
              "  <tbody>\n",
              "    <tr>\n",
              "      <th>Gender</th>\n",
              "      <td>1.000000</td>\n",
              "      <td>0.116135</td>\n",
              "      <td>0.030216</td>\n",
              "      <td>-0.034109</td>\n",
              "      <td>0.031822</td>\n",
              "      <td>0.061432</td>\n",
              "      <td>0.054059</td>\n",
              "    </tr>\n",
              "    <tr>\n",
              "      <th>Ever_Married</th>\n",
              "      <td>0.116135</td>\n",
              "      <td>1.000000</td>\n",
              "      <td>0.567130</td>\n",
              "      <td>0.196893</td>\n",
              "      <td>0.201160</td>\n",
              "      <td>0.616406</td>\n",
              "      <td>-0.078144</td>\n",
              "    </tr>\n",
              "    <tr>\n",
              "      <th>Age</th>\n",
              "      <td>0.030216</td>\n",
              "      <td>0.567130</td>\n",
              "      <td>1.000000</td>\n",
              "      <td>0.237309</td>\n",
              "      <td>0.130141</td>\n",
              "      <td>0.415485</td>\n",
              "      <td>-0.273373</td>\n",
              "    </tr>\n",
              "    <tr>\n",
              "      <th>Graduated</th>\n",
              "      <td>-0.034109</td>\n",
              "      <td>0.196893</td>\n",
              "      <td>0.237309</td>\n",
              "      <td>1.000000</td>\n",
              "      <td>0.160252</td>\n",
              "      <td>0.103468</td>\n",
              "      <td>-0.226733</td>\n",
              "    </tr>\n",
              "    <tr>\n",
              "      <th>Profession</th>\n",
              "      <td>0.031822</td>\n",
              "      <td>0.201160</td>\n",
              "      <td>0.130141</td>\n",
              "      <td>0.160252</td>\n",
              "      <td>1.000000</td>\n",
              "      <td>0.146313</td>\n",
              "      <td>-0.121153</td>\n",
              "    </tr>\n",
              "    <tr>\n",
              "      <th>Spending_Score</th>\n",
              "      <td>0.061432</td>\n",
              "      <td>0.616406</td>\n",
              "      <td>0.415485</td>\n",
              "      <td>0.103468</td>\n",
              "      <td>0.146313</td>\n",
              "      <td>1.000000</td>\n",
              "      <td>0.090888</td>\n",
              "    </tr>\n",
              "    <tr>\n",
              "      <th>Family_Size</th>\n",
              "      <td>0.054059</td>\n",
              "      <td>-0.078144</td>\n",
              "      <td>-0.273373</td>\n",
              "      <td>-0.226733</td>\n",
              "      <td>-0.121153</td>\n",
              "      <td>0.090888</td>\n",
              "      <td>1.000000</td>\n",
              "    </tr>\n",
              "  </tbody>\n",
              "</table>\n",
              "</div>\n",
              "      <button class=\"colab-df-convert\" onclick=\"convertToInteractive('df-149377bd-6923-41d0-aa46-4e378d0b2c63')\"\n",
              "              title=\"Convert this dataframe to an interactive table.\"\n",
              "              style=\"display:none;\">\n",
              "        \n",
              "  <svg xmlns=\"http://www.w3.org/2000/svg\" height=\"24px\"viewBox=\"0 0 24 24\"\n",
              "       width=\"24px\">\n",
              "    <path d=\"M0 0h24v24H0V0z\" fill=\"none\"/>\n",
              "    <path d=\"M18.56 5.44l.94 2.06.94-2.06 2.06-.94-2.06-.94-.94-2.06-.94 2.06-2.06.94zm-11 1L8.5 8.5l.94-2.06 2.06-.94-2.06-.94L8.5 2.5l-.94 2.06-2.06.94zm10 10l.94 2.06.94-2.06 2.06-.94-2.06-.94-.94-2.06-.94 2.06-2.06.94z\"/><path d=\"M17.41 7.96l-1.37-1.37c-.4-.4-.92-.59-1.43-.59-.52 0-1.04.2-1.43.59L10.3 9.45l-7.72 7.72c-.78.78-.78 2.05 0 2.83L4 21.41c.39.39.9.59 1.41.59.51 0 1.02-.2 1.41-.59l7.78-7.78 2.81-2.81c.8-.78.8-2.07 0-2.86zM5.41 20L4 18.59l7.72-7.72 1.47 1.35L5.41 20z\"/>\n",
              "  </svg>\n",
              "      </button>\n",
              "      \n",
              "  <style>\n",
              "    .colab-df-container {\n",
              "      display:flex;\n",
              "      flex-wrap:wrap;\n",
              "      gap: 12px;\n",
              "    }\n",
              "\n",
              "    .colab-df-convert {\n",
              "      background-color: #E8F0FE;\n",
              "      border: none;\n",
              "      border-radius: 50%;\n",
              "      cursor: pointer;\n",
              "      display: none;\n",
              "      fill: #1967D2;\n",
              "      height: 32px;\n",
              "      padding: 0 0 0 0;\n",
              "      width: 32px;\n",
              "    }\n",
              "\n",
              "    .colab-df-convert:hover {\n",
              "      background-color: #E2EBFA;\n",
              "      box-shadow: 0px 1px 2px rgba(60, 64, 67, 0.3), 0px 1px 3px 1px rgba(60, 64, 67, 0.15);\n",
              "      fill: #174EA6;\n",
              "    }\n",
              "\n",
              "    [theme=dark] .colab-df-convert {\n",
              "      background-color: #3B4455;\n",
              "      fill: #D2E3FC;\n",
              "    }\n",
              "\n",
              "    [theme=dark] .colab-df-convert:hover {\n",
              "      background-color: #434B5C;\n",
              "      box-shadow: 0px 1px 3px 1px rgba(0, 0, 0, 0.15);\n",
              "      filter: drop-shadow(0px 1px 2px rgba(0, 0, 0, 0.3));\n",
              "      fill: #FFFFFF;\n",
              "    }\n",
              "  </style>\n",
              "\n",
              "      <script>\n",
              "        const buttonEl =\n",
              "          document.querySelector('#df-149377bd-6923-41d0-aa46-4e378d0b2c63 button.colab-df-convert');\n",
              "        buttonEl.style.display =\n",
              "          google.colab.kernel.accessAllowed ? 'block' : 'none';\n",
              "\n",
              "        async function convertToInteractive(key) {\n",
              "          const element = document.querySelector('#df-149377bd-6923-41d0-aa46-4e378d0b2c63');\n",
              "          const dataTable =\n",
              "            await google.colab.kernel.invokeFunction('convertToInteractive',\n",
              "                                                     [key], {});\n",
              "          if (!dataTable) return;\n",
              "\n",
              "          const docLinkHtml = 'Like what you see? Visit the ' +\n",
              "            '<a target=\"_blank\" href=https://colab.research.google.com/notebooks/data_table.ipynb>data table notebook</a>'\n",
              "            + ' to learn more about interactive tables.';\n",
              "          element.innerHTML = '';\n",
              "          dataTable['output_type'] = 'display_data';\n",
              "          await google.colab.output.renderOutput(dataTable, element);\n",
              "          const docLink = document.createElement('div');\n",
              "          docLink.innerHTML = docLinkHtml;\n",
              "          element.appendChild(docLink);\n",
              "        }\n",
              "      </script>\n",
              "    </div>\n",
              "  </div>\n",
              "  "
            ]
          },
          "metadata": {},
          "execution_count": 134
        }
      ]
    },
    {
      "cell_type": "markdown",
      "source": [
        "Por ello, a mi parecer, una buena tactica sería que a las personas menores de 35 les asignemos 0 de no haberse casado y viceversa para aquellos mayores de 35. El numero 35 lo decidi por cuenta propia observando la distribucion de los datos."
      ],
      "metadata": {
        "id": "CzTRoVX9aFwd"
      }
    },
    {
      "cell_type": "code",
      "source": [
        "mask = ((sdf.Ever_Married.isna()) & (sdf.Age < 35))\n",
        "sdf = sdf.assign(Ever_Married=sdf.Ever_Married.mask(mask, other=0))\n",
        "mask = ((sdf.Ever_Married.isna()) & (sdf.Age >= 35))\n",
        "sdf = sdf.assign(Ever_Married=sdf.Ever_Married.mask(mask, other=1))"
      ],
      "metadata": {
        "id": "uDzntmeCkmNZ"
      },
      "execution_count": null,
      "outputs": []
    },
    {
      "cell_type": "markdown",
      "source": [
        "Lo mismo sucede con la variable \"Graduated\", por lo que hacemos lo mismo."
      ],
      "metadata": {
        "id": "7pwhPGQ1bHL-"
      }
    },
    {
      "cell_type": "code",
      "source": [
        "mask = ((sdf.Graduated.isna()) & (sdf.Age < 35))\n",
        "sdf = sdf.assign(Graduated=sdf.Graduated.mask(mask, other=0))\n",
        "mask = ((sdf.Graduated.isna()) & (sdf.Age >= 35))\n",
        "sdf = sdf.assign(Graduated=sdf.Graduated.mask(mask, other=1))"
      ],
      "metadata": {
        "id": "-UoFPY20bBkh"
      },
      "execution_count": null,
      "outputs": []
    },
    {
      "cell_type": "markdown",
      "source": [
        "Por ultimo nos queda la variable \"Profession\", de acuerdo a las proporciones observadas en la grafica de arriba decido asignar valores de probalidad de salir de cada profesion. De este modo espero no alterar demasiado los resultados."
      ],
      "metadata": {
        "id": "ppqjayUIbhCu"
      }
    },
    {
      "cell_type": "code",
      "source": [
        "l = [0,1,2,3,4,5,6,7,8]\n",
        "p = [0.167, 0.09, 0.08, 0.12, 0.316, 0.075, 0.086, 0.03, 0.036]\n",
        "sdf = sdf.fillna({'Profession': np.random.choice(l,p=p)})"
      ],
      "metadata": {
        "id": "KKTkkapkju4W"
      },
      "execution_count": null,
      "outputs": []
    },
    {
      "cell_type": "markdown",
      "source": [
        "Ahora, sin datos faltantes, los datos pueden ser lanzados al segmentador, pero antes debemos asegurarnos de que los datos esten a la misma escala para obtener mejores resultados."
      ],
      "metadata": {
        "id": "NMKxoMaSfXzg"
      }
    },
    {
      "cell_type": "code",
      "source": [
        "sdf.isna().sum() * 100 / len(sdf)"
      ],
      "metadata": {
        "colab": {
          "base_uri": "https://localhost:8080/"
        },
        "id": "IKKLrAPflIKY",
        "outputId": "52f7ebeb-15b6-4039-ae56-1d71b14e6f0f"
      },
      "execution_count": null,
      "outputs": [
        {
          "output_type": "execute_result",
          "data": {
            "text/plain": [
              "Gender            0.0\n",
              "Ever_Married      0.0\n",
              "Age               0.0\n",
              "Graduated         0.0\n",
              "Profession        0.0\n",
              "Spending_Score    0.0\n",
              "Family_Size       0.0\n",
              "dtype: float64"
            ]
          },
          "metadata": {},
          "execution_count": 138
        }
      ]
    },
    {
      "cell_type": "markdown",
      "source": [
        "#Estandarización\n",
        "\n",
        "Como observamos la escala de algunos datos es muy diferente, por lo que debemos estandarizar. En este caso optare por solo estandarizar dos variables, \"Age\" y \"Family_Size\", porque las demas variables son categoricas y no le veo caso."
      ],
      "metadata": {
        "id": "usGdDu2mlfyk"
      }
    },
    {
      "cell_type": "code",
      "source": [
        "sdf.plot.box(rot=90)"
      ],
      "metadata": {
        "colab": {
          "base_uri": "https://localhost:8080/",
          "height": 353
        },
        "id": "gqfkEAk_yOdL",
        "outputId": "bf16d689-0706-44fa-cacb-d0158ebc5888"
      },
      "execution_count": null,
      "outputs": [
        {
          "output_type": "execute_result",
          "data": {
            "text/plain": [
              "<matplotlib.axes._subplots.AxesSubplot at 0x7f0e87794c10>"
            ]
          },
          "metadata": {},
          "execution_count": 139
        },
        {
          "output_type": "display_data",
          "data": {
            "text/plain": [
              "<Figure size 432x288 with 1 Axes>"
            ],
            "image/png": "[encoded data removed]"
          },
          "metadata": {
            "needs_background": "light"
          }
        }
      ]
    },
    {
      "cell_type": "code",
      "source": [
        "scaler = StandardScaler()\n",
        "sdf[['Age','Family_Size']] = scaler.fit_transform(sdf[['Age','Family_Size']])\n",
        "sdf.plot.box()\n",
        "plt.xticks(rotation=90)"
      ],
      "metadata": {
        "colab": {
          "base_uri": "https://localhost:8080/",
          "height": 353
        },
        "id": "APsAyYzj1m-q",
        "outputId": "52050bae-5528-43d9-8b32-1b957facecf7"
      },
      "execution_count": null,
      "outputs": [
        {
          "output_type": "execute_result",
          "data": {
            "text/plain": [
              "(array([1, 2, 3, 4, 5, 6, 7]), <a list of 7 Text major ticklabel objects>)"
            ]
          },
          "metadata": {},
          "execution_count": 158
        },
        {
          "output_type": "display_data",
          "data": {
            "text/plain": [
              "<Figure size 432x288 with 1 Axes>"
            ],
            "image/png": "[encoded data removed]"
          },
          "metadata": {
            "needs_background": "light"
          }
        }
      ]
    },
    {
      "cell_type": "markdown",
      "source": [
        "**Datos atipicos**\n",
        "\n",
        "En caso de que alguno de las variables estandarizadas tenga datos mayores a 3 desviaciones estandar entonces las eliminamos, eso sin antes asegurarnos de que no sean muchas observaciones. "
      ],
      "metadata": {
        "id": "uP4HU4lhgrRJ"
      }
    },
    {
      "cell_type": "code",
      "source": [
        "outlier_data = sdf[[\"Age\", \"Family_Size\"]].abs() > 3\n",
        "any_outlier = outlier_data.any(axis=1) #¿existe algún valor atípico en la fila?\n",
        "sum(any_outlier)/len(any_outlier)*100 #los outliers se distribuirán a los grupos con los que mayor similitud tengan"
      ],
      "metadata": {
        "colab": {
          "base_uri": "https://localhost:8080/"
        },
        "id": "i3R4HoXc6DOu",
        "outputId": "fec596ed-edcc-49fc-ccbb-d0a2b5809b90"
      },
      "execution_count": null,
      "outputs": [
        {
          "output_type": "execute_result",
          "data": {
            "text/plain": [
              "1.1650966782350025"
            ]
          },
          "metadata": {},
          "execution_count": 159
        }
      ]
    },
    {
      "cell_type": "code",
      "source": [
        "sdf = sdf[~any_outlier.values]\n",
        "sdf.plot.box()\n",
        "plt.xticks(rotation=90)"
      ],
      "metadata": {
        "colab": {
          "base_uri": "https://localhost:8080/",
          "height": 353
        },
        "id": "JPjd6u8Q8LDw",
        "outputId": "692f7282-39fe-476a-991c-99b919410d3d"
      },
      "execution_count": null,
      "outputs": [
        {
          "output_type": "execute_result",
          "data": {
            "text/plain": [
              "(array([1, 2, 3, 4, 5, 6, 7]), <a list of 7 Text major ticklabel objects>)"
            ]
          },
          "metadata": {},
          "execution_count": 160
        },
        {
          "output_type": "display_data",
          "data": {
            "text/plain": [
              "<Figure size 432x288 with 1 Axes>"
            ],
            "image/png": "[encoded data removed]"
          },
          "metadata": {
            "needs_background": "light"
          }
        }
      ]
    },
    {
      "cell_type": "markdown",
      "source": [
        "Finalmente los datos estan listos para segmentar, al final nos quedamos con 7974 observaciones, lo cual me parece muy bien."
      ],
      "metadata": {
        "id": "mGyeD2qUhjVF"
      }
    },
    {
      "cell_type": "code",
      "source": [
        "len(sdf)"
      ],
      "metadata": {
        "colab": {
          "base_uri": "https://localhost:8080/"
        },
        "id": "xeYJre3w8bwV",
        "outputId": "e9373018-f576-4637-f12c-2de1c15ed69b"
      },
      "execution_count": null,
      "outputs": [
        {
          "output_type": "execute_result",
          "data": {
            "text/plain": [
              "7974"
            ]
          },
          "metadata": {},
          "execution_count": 161
        }
      ]
    },
    {
      "cell_type": "markdown",
      "source": [
        "#Agrupamiento\n",
        "\n",
        "Encontramos el numero k de grupos optimo empleando el metodo del codo."
      ],
      "metadata": {
        "id": "DfZvux5iwoh5"
      }
    },
    {
      "cell_type": "code",
      "source": [
        "whithin_var = []\n",
        "for k in range(2,20):\n",
        "  km = KMeans(n_clusters=k)\n",
        "  km.fit(sdf)\n",
        "  whithin_var.append(km.inertia_)"
      ],
      "metadata": {
        "id": "ssjZ_qeN-SHa"
      },
      "execution_count": null,
      "outputs": []
    },
    {
      "cell_type": "markdown",
      "source": [
        "De acuerdo a la grafica, a mi criterio deberia ser 5 o 7, optare por 7."
      ],
      "metadata": {
        "id": "XVTBQN_7j4HQ"
      }
    },
    {
      "cell_type": "code",
      "source": [
        "plt.figure(figsize=(8,5))\n",
        "plt.margins(x=0, y=0)\n",
        "plt.plot(range(2,20), np.array(whithin_var))\n",
        "plt.show()"
      ],
      "metadata": {
        "colab": {
          "base_uri": "https://localhost:8080/",
          "height": 320
        },
        "id": "nhqPsL4-3K5w",
        "outputId": "14a0bf39-3685-41e2-8fae-e91645bb6305"
      },
      "execution_count": null,
      "outputs": [
        {
          "output_type": "display_data",
          "data": {
            "text/plain": [
              "<Figure size 576x360 with 1 Axes>"
            ],
            "image/png": "[encoded data removed]"
          },
          "metadata": {
            "needs_background": "light"
          }
        }
      ]
    },
    {
      "cell_type": "markdown",
      "source": [
        "#K-Medias\n",
        "\n",
        "Una vez determinado el numero de k grupos más optimo, implementamos por fin el algoritmo de k-medias con nuestros datos limpios, transformados y estandarizados y con 7 el numero de clusters. "
      ],
      "metadata": {
        "id": "-AMAwi8RwwLo"
      }
    },
    {
      "cell_type": "code",
      "source": [
        "km = KMeans(n_clusters=7)\n",
        "grupos = km.fit(sdf)"
      ],
      "metadata": {
        "id": "GgWvpzTb8NY6"
      },
      "execution_count": null,
      "outputs": []
    },
    {
      "cell_type": "markdown",
      "source": [
        "Asignamos a nuestra tabla de datos las etiquetas de los grupos y observamos la distribucion de estos. Como podemos observar, el grupo 3 es el mas habitado."
      ],
      "metadata": {
        "id": "OovLQFRXktkt"
      }
    },
    {
      "cell_type": "code",
      "source": [
        "sdf['Grupo'] = grupos.labels_\n",
        "sdf.groupby('Grupo').size()"
      ],
      "metadata": {
        "colab": {
          "base_uri": "https://localhost:8080/"
        },
        "id": "icXZfJdK8mP3",
        "outputId": "3f912f6b-c260-4423-f8fb-dc3f5e2f28ff"
      },
      "execution_count": null,
      "outputs": [
        {
          "output_type": "stream",
          "name": "stderr",
          "text": [
            "<ipython-input-174-3b40f815b525>:1: SettingWithCopyWarning: \n",
            "A value is trying to be set on a copy of a slice from a DataFrame.\n",
            "Try using .loc[row_indexer,col_indexer] = value instead\n",
            "\n",
            "See the caveats in the documentation: https://pandas.pydata.org/pandas-docs/stable/user_guide/indexing.html#returning-a-view-versus-a-copy\n",
            "  sdf['Grupo'] = grupos.labels_\n"
          ]
        },
        {
          "output_type": "execute_result",
          "data": {
            "text/plain": [
              "Grupo\n",
              "0     782\n",
              "1    1106\n",
              "2    1155\n",
              "3    1974\n",
              "4    1034\n",
              "5    1160\n",
              "6     763\n",
              "dtype: int64"
            ]
          },
          "metadata": {},
          "execution_count": 174
        }
      ]
    },
    {
      "cell_type": "markdown",
      "source": [
        "#Invertir estandarizacion\n",
        "\n",
        "Antes de analizar los resultados e intentar describir los perfiles, es importante regresar los datos a sus escalas originales, de otro modo sería complicado hacer una interpretacíon."
      ],
      "metadata": {
        "id": "FGTPe73-7KFO"
      }
    },
    {
      "cell_type": "code",
      "source": [
        "sdf[['Age','Family_Size']] = scaler.inverse_transform(sdf[['Age','Family_Size']])\n",
        "sdf.head()"
      ],
      "metadata": {
        "colab": {
          "base_uri": "https://localhost:8080/",
          "height": 316
        },
        "id": "aEOfAtaD5Ouh",
        "outputId": "19848d8f-b876-4acd-a9cb-78fbc3ededaf"
      },
      "execution_count": null,
      "outputs": [
        {
          "output_type": "stream",
          "name": "stderr",
          "text": [
            "/usr/local/lib/python3.8/dist-packages/pandas/core/frame.py:3678: SettingWithCopyWarning: \n",
            "A value is trying to be set on a copy of a slice from a DataFrame.\n",
            "Try using .loc[row_indexer,col_indexer] = value instead\n",
            "\n",
            "See the caveats in the documentation: https://pandas.pydata.org/pandas-docs/stable/user_guide/indexing.html#returning-a-view-versus-a-copy\n",
            "  self[col] = igetitem(value, i)\n"
          ]
        },
        {
          "output_type": "execute_result",
          "data": {
            "text/plain": [
              "   Gender  Ever_Married   Age  Graduated  Profession  Spending_Score  \\\n",
              "0       1           0.0  22.0        0.0         0.0               0   \n",
              "1       0           1.0  38.0        1.0         1.0               1   \n",
              "2       0           1.0  67.0        1.0         1.0               0   \n",
              "3       1           1.0  67.0        1.0         2.0               2   \n",
              "4       0           1.0  40.0        1.0         3.0               2   \n",
              "\n",
              "   Family_Size  Grupo  \n",
              "0         40.0      5  \n",
              "1         30.0      0  \n",
              "2         10.0      6  \n",
              "3         20.0      6  \n",
              "4         60.0      1  "
            ],
            "text/html": [
              "\n",
              "  <div id=\"df-39a093b7-7f0b-4f85-85df-bbaa937fa2f6\">\n",
              "    <div class=\"colab-df-container\">\n",
              "      <div>\n",
              "<style scoped>\n",
              "    .dataframe tbody tr th:only-of-type {\n",
              "        vertical-align: middle;\n",
              "    }\n",
              "\n",
              "    .dataframe tbody tr th {\n",
              "        vertical-align: top;\n",
              "    }\n",
              "\n",
              "    .dataframe thead th {\n",
              "        text-align: right;\n",
              "    }\n",
              "</style>\n",
              "<table border=\"1\" class=\"dataframe\">\n",
              "  <thead>\n",
              "    <tr style=\"text-align: right;\">\n",
              "      <th></th>\n",
              "      <th>Gender</th>\n",
              "      <th>Ever_Married</th>\n",
              "      <th>Age</th>\n",
              "      <th>Graduated</th>\n",
              "      <th>Profession</th>\n",
              "      <th>Spending_Score</th>\n",
              "      <th>Family_Size</th>\n",
              "      <th>Grupo</th>\n",
              "    </tr>\n",
              "  </thead>\n",
              "  <tbody>\n",
              "    <tr>\n",
              "      <th>0</th>\n",
              "      <td>1</td>\n",
              "      <td>0.0</td>\n",
              "      <td>22.0</td>\n",
              "      <td>0.0</td>\n",
              "      <td>0.0</td>\n",
              "      <td>0</td>\n",
              "      <td>40.0</td>\n",
              "      <td>5</td>\n",
              "    </tr>\n",
              "    <tr>\n",
              "      <th>1</th>\n",
              "      <td>0</td>\n",
              "      <td>1.0</td>\n",
              "      <td>38.0</td>\n",
              "      <td>1.0</td>\n",
              "      <td>1.0</td>\n",
              "      <td>1</td>\n",
              "      <td>30.0</td>\n",
              "      <td>0</td>\n",
              "    </tr>\n",
              "    <tr>\n",
              "      <th>2</th>\n",
              "      <td>0</td>\n",
              "      <td>1.0</td>\n",
              "      <td>67.0</td>\n",
              "      <td>1.0</td>\n",
              "      <td>1.0</td>\n",
              "      <td>0</td>\n",
              "      <td>10.0</td>\n",
              "      <td>6</td>\n",
              "    </tr>\n",
              "    <tr>\n",
              "      <th>3</th>\n",
              "      <td>1</td>\n",
              "      <td>1.0</td>\n",
              "      <td>67.0</td>\n",
              "      <td>1.0</td>\n",
              "      <td>2.0</td>\n",
              "      <td>2</td>\n",
              "      <td>20.0</td>\n",
              "      <td>6</td>\n",
              "    </tr>\n",
              "    <tr>\n",
              "      <th>4</th>\n",
              "      <td>0</td>\n",
              "      <td>1.0</td>\n",
              "      <td>40.0</td>\n",
              "      <td>1.0</td>\n",
              "      <td>3.0</td>\n",
              "      <td>2</td>\n",
              "      <td>60.0</td>\n",
              "      <td>1</td>\n",
              "    </tr>\n",
              "  </tbody>\n",
              "</table>\n",
              "</div>\n",
              "      <button class=\"colab-df-convert\" onclick=\"convertToInteractive('df-39a093b7-7f0b-4f85-85df-bbaa937fa2f6')\"\n",
              "              title=\"Convert this dataframe to an interactive table.\"\n",
              "              style=\"display:none;\">\n",
              "        \n",
              "  <svg xmlns=\"http://www.w3.org/2000/svg\" height=\"24px\"viewBox=\"0 0 24 24\"\n",
              "       width=\"24px\">\n",
              "    <path d=\"M0 0h24v24H0V0z\" fill=\"none\"/>\n",
              "    <path d=\"M18.56 5.44l.94 2.06.94-2.06 2.06-.94-2.06-.94-.94-2.06-.94 2.06-2.06.94zm-11 1L8.5 8.5l.94-2.06 2.06-.94-2.06-.94L8.5 2.5l-.94 2.06-2.06.94zm10 10l.94 2.06.94-2.06 2.06-.94-2.06-.94-.94-2.06-.94 2.06-2.06.94z\"/><path d=\"M17.41 7.96l-1.37-1.37c-.4-.4-.92-.59-1.43-.59-.52 0-1.04.2-1.43.59L10.3 9.45l-7.72 7.72c-.78.78-.78 2.05 0 2.83L4 21.41c.39.39.9.59 1.41.59.51 0 1.02-.2 1.41-.59l7.78-7.78 2.81-2.81c.8-.78.8-2.07 0-2.86zM5.41 20L4 18.59l7.72-7.72 1.47 1.35L5.41 20z\"/>\n",
              "  </svg>\n",
              "      </button>\n",
              "      \n",
              "  <style>\n",
              "    .colab-df-container {\n",
              "      display:flex;\n",
              "      flex-wrap:wrap;\n",
              "      gap: 12px;\n",
              "    }\n",
              "\n",
              "    .colab-df-convert {\n",
              "      background-color: #E8F0FE;\n",
              "      border: none;\n",
              "      border-radius: 50%;\n",
              "      cursor: pointer;\n",
              "      display: none;\n",
              "      fill: #1967D2;\n",
              "      height: 32px;\n",
              "      padding: 0 0 0 0;\n",
              "      width: 32px;\n",
              "    }\n",
              "\n",
              "    .colab-df-convert:hover {\n",
              "      background-color: #E2EBFA;\n",
              "      box-shadow: 0px 1px 2px rgba(60, 64, 67, 0.3), 0px 1px 3px 1px rgba(60, 64, 67, 0.15);\n",
              "      fill: #174EA6;\n",
              "    }\n",
              "\n",
              "    [theme=dark] .colab-df-convert {\n",
              "      background-color: #3B4455;\n",
              "      fill: #D2E3FC;\n",
              "    }\n",
              "\n",
              "    [theme=dark] .colab-df-convert:hover {\n",
              "      background-color: #434B5C;\n",
              "      box-shadow: 0px 1px 3px 1px rgba(0, 0, 0, 0.15);\n",
              "      filter: drop-shadow(0px 1px 2px rgba(0, 0, 0, 0.3));\n",
              "      fill: #FFFFFF;\n",
              "    }\n",
              "  </style>\n",
              "\n",
              "      <script>\n",
              "        const buttonEl =\n",
              "          document.querySelector('#df-39a093b7-7f0b-4f85-85df-bbaa937fa2f6 button.colab-df-convert');\n",
              "        buttonEl.style.display =\n",
              "          google.colab.kernel.accessAllowed ? 'block' : 'none';\n",
              "\n",
              "        async function convertToInteractive(key) {\n",
              "          const element = document.querySelector('#df-39a093b7-7f0b-4f85-85df-bbaa937fa2f6');\n",
              "          const dataTable =\n",
              "            await google.colab.kernel.invokeFunction('convertToInteractive',\n",
              "                                                     [key], {});\n",
              "          if (!dataTable) return;\n",
              "\n",
              "          const docLinkHtml = 'Like what you see? Visit the ' +\n",
              "            '<a target=\"_blank\" href=https://colab.research.google.com/notebooks/data_table.ipynb>data table notebook</a>'\n",
              "            + ' to learn more about interactive tables.';\n",
              "          element.innerHTML = '';\n",
              "          dataTable['output_type'] = 'display_data';\n",
              "          await google.colab.output.renderOutput(dataTable, element);\n",
              "          const docLink = document.createElement('div');\n",
              "          docLink.innerHTML = docLinkHtml;\n",
              "          element.appendChild(docLink);\n",
              "        }\n",
              "      </script>\n",
              "    </div>\n",
              "  </div>\n",
              "  "
            ]
          },
          "metadata": {},
          "execution_count": 175
        }
      ]
    },
    {
      "cell_type": "markdown",
      "source": [
        "#Perfilamiento\n",
        "\n",
        "Con los datos ya de vuelta a su escala original, podemos ahora si analizar e interpretar los datos, para ello obtenemos la medio de los datos para cada variable de cada grupo."
      ],
      "metadata": {
        "id": "rNH2dN8d_TZq"
      }
    },
    {
      "cell_type": "code",
      "source": [
        "df_perf = sdf.groupby(['Grupo']).mean()\n",
        "df_perf"
      ],
      "metadata": {
        "colab": {
          "base_uri": "https://localhost:8080/",
          "height": 300
        },
        "id": "LLcVbhzPBHjF",
        "outputId": "4466bf88-cfa9-40bb-a017-ee97fef9e86f"
      },
      "execution_count": null,
      "outputs": [
        {
          "output_type": "execute_result",
          "data": {
            "text/plain": [
              "         Gender  Ever_Married        Age  Graduated  Profession  \\\n",
              "Grupo                                                             \n",
              "0      0.299233      0.567775  39.219949   0.636829    0.667519   \n",
              "1      0.658228      0.813743  42.109403   0.682640    3.843580   \n",
              "2      0.447619      0.413853  35.983550   0.516883    6.700433   \n",
              "3      0.562817      0.528875  41.626140   0.818642    3.757852   \n",
              "4      0.694391      0.997099  58.088975   0.763056    4.491296   \n",
              "5      0.554310      0.057759  25.501724   0.234483    0.116379   \n",
              "6      0.546527      0.952818  74.568807   0.606815    2.053735   \n",
              "\n",
              "       Spending_Score  Family_Size  \n",
              "Grupo                               \n",
              "0            0.423274    21.918159  \n",
              "1            0.845389    43.074141  \n",
              "2            0.303030    27.497835  \n",
              "3            0.187943    18.115502  \n",
              "4            1.454545    26.499033  \n",
              "5            0.061207    41.008621  \n",
              "6            1.044561    19.947575  "
            ],
            "text/html": [
              "\n",
              "  <div id=\"df-a1ec1907-e1ba-413a-aa69-5073941c3f3f\">\n",
              "    <div class=\"colab-df-container\">\n",
              "      <div>\n",
              "<style scoped>\n",
              "    .dataframe tbody tr th:only-of-type {\n",
              "        vertical-align: middle;\n",
              "    }\n",
              "\n",
              "    .dataframe tbody tr th {\n",
              "        vertical-align: top;\n",
              "    }\n",
              "\n",
              "    .dataframe thead th {\n",
              "        text-align: right;\n",
              "    }\n",
              "</style>\n",
              "<table border=\"1\" class=\"dataframe\">\n",
              "  <thead>\n",
              "    <tr style=\"text-align: right;\">\n",
              "      <th></th>\n",
              "      <th>Gender</th>\n",
              "      <th>Ever_Married</th>\n",
              "      <th>Age</th>\n",
              "      <th>Graduated</th>\n",
              "      <th>Profession</th>\n",
              "      <th>Spending_Score</th>\n",
              "      <th>Family_Size</th>\n",
              "    </tr>\n",
              "    <tr>\n",
              "      <th>Grupo</th>\n",
              "      <th></th>\n",
              "      <th></th>\n",
              "      <th></th>\n",
              "      <th></th>\n",
              "      <th></th>\n",
              "      <th></th>\n",
              "      <th></th>\n",
              "    </tr>\n",
              "  </thead>\n",
              "  <tbody>\n",
              "    <tr>\n",
              "      <th>0</th>\n",
              "      <td>0.299233</td>\n",
              "      <td>0.567775</td>\n",
              "      <td>39.219949</td>\n",
              "      <td>0.636829</td>\n",
              "      <td>0.667519</td>\n",
              "      <td>0.423274</td>\n",
              "      <td>21.918159</td>\n",
              "    </tr>\n",
              "    <tr>\n",
              "      <th>1</th>\n",
              "      <td>0.658228</td>\n",
              "      <td>0.813743</td>\n",
              "      <td>42.109403</td>\n",
              "      <td>0.682640</td>\n",
              "      <td>3.843580</td>\n",
              "      <td>0.845389</td>\n",
              "      <td>43.074141</td>\n",
              "    </tr>\n",
              "    <tr>\n",
              "      <th>2</th>\n",
              "      <td>0.447619</td>\n",
              "      <td>0.413853</td>\n",
              "      <td>35.983550</td>\n",
              "      <td>0.516883</td>\n",
              "      <td>6.700433</td>\n",
              "      <td>0.303030</td>\n",
              "      <td>27.497835</td>\n",
              "    </tr>\n",
              "    <tr>\n",
              "      <th>3</th>\n",
              "      <td>0.562817</td>\n",
              "      <td>0.528875</td>\n",
              "      <td>41.626140</td>\n",
              "      <td>0.818642</td>\n",
              "      <td>3.757852</td>\n",
              "      <td>0.187943</td>\n",
              "      <td>18.115502</td>\n",
              "    </tr>\n",
              "    <tr>\n",
              "      <th>4</th>\n",
              "      <td>0.694391</td>\n",
              "      <td>0.997099</td>\n",
              "      <td>58.088975</td>\n",
              "      <td>0.763056</td>\n",
              "      <td>4.491296</td>\n",
              "      <td>1.454545</td>\n",
              "      <td>26.499033</td>\n",
              "    </tr>\n",
              "    <tr>\n",
              "      <th>5</th>\n",
              "      <td>0.554310</td>\n",
              "      <td>0.057759</td>\n",
              "      <td>25.501724</td>\n",
              "      <td>0.234483</td>\n",
              "      <td>0.116379</td>\n",
              "      <td>0.061207</td>\n",
              "      <td>41.008621</td>\n",
              "    </tr>\n",
              "    <tr>\n",
              "      <th>6</th>\n",
              "      <td>0.546527</td>\n",
              "      <td>0.952818</td>\n",
              "      <td>74.568807</td>\n",
              "      <td>0.606815</td>\n",
              "      <td>2.053735</td>\n",
              "      <td>1.044561</td>\n",
              "      <td>19.947575</td>\n",
              "    </tr>\n",
              "  </tbody>\n",
              "</table>\n",
              "</div>\n",
              "      <button class=\"colab-df-convert\" onclick=\"convertToInteractive('df-a1ec1907-e1ba-413a-aa69-5073941c3f3f')\"\n",
              "              title=\"Convert this dataframe to an interactive table.\"\n",
              "              style=\"display:none;\">\n",
              "        \n",
              "  <svg xmlns=\"http://www.w3.org/2000/svg\" height=\"24px\"viewBox=\"0 0 24 24\"\n",
              "       width=\"24px\">\n",
              "    <path d=\"M0 0h24v24H0V0z\" fill=\"none\"/>\n",
              "    <path d=\"M18.56 5.44l.94 2.06.94-2.06 2.06-.94-2.06-.94-.94-2.06-.94 2.06-2.06.94zm-11 1L8.5 8.5l.94-2.06 2.06-.94-2.06-.94L8.5 2.5l-.94 2.06-2.06.94zm10 10l.94 2.06.94-2.06 2.06-.94-2.06-.94-.94-2.06-.94 2.06-2.06.94z\"/><path d=\"M17.41 7.96l-1.37-1.37c-.4-.4-.92-.59-1.43-.59-.52 0-1.04.2-1.43.59L10.3 9.45l-7.72 7.72c-.78.78-.78 2.05 0 2.83L4 21.41c.39.39.9.59 1.41.59.51 0 1.02-.2 1.41-.59l7.78-7.78 2.81-2.81c.8-.78.8-2.07 0-2.86zM5.41 20L4 18.59l7.72-7.72 1.47 1.35L5.41 20z\"/>\n",
              "  </svg>\n",
              "      </button>\n",
              "      \n",
              "  <style>\n",
              "    .colab-df-container {\n",
              "      display:flex;\n",
              "      flex-wrap:wrap;\n",
              "      gap: 12px;\n",
              "    }\n",
              "\n",
              "    .colab-df-convert {\n",
              "      background-color: #E8F0FE;\n",
              "      border: none;\n",
              "      border-radius: 50%;\n",
              "      cursor: pointer;\n",
              "      display: none;\n",
              "      fill: #1967D2;\n",
              "      height: 32px;\n",
              "      padding: 0 0 0 0;\n",
              "      width: 32px;\n",
              "    }\n",
              "\n",
              "    .colab-df-convert:hover {\n",
              "      background-color: #E2EBFA;\n",
              "      box-shadow: 0px 1px 2px rgba(60, 64, 67, 0.3), 0px 1px 3px 1px rgba(60, 64, 67, 0.15);\n",
              "      fill: #174EA6;\n",
              "    }\n",
              "\n",
              "    [theme=dark] .colab-df-convert {\n",
              "      background-color: #3B4455;\n",
              "      fill: #D2E3FC;\n",
              "    }\n",
              "\n",
              "    [theme=dark] .colab-df-convert:hover {\n",
              "      background-color: #434B5C;\n",
              "      box-shadow: 0px 1px 3px 1px rgba(0, 0, 0, 0.15);\n",
              "      filter: drop-shadow(0px 1px 2px rgba(0, 0, 0, 0.3));\n",
              "      fill: #FFFFFF;\n",
              "    }\n",
              "  </style>\n",
              "\n",
              "      <script>\n",
              "        const buttonEl =\n",
              "          document.querySelector('#df-a1ec1907-e1ba-413a-aa69-5073941c3f3f button.colab-df-convert');\n",
              "        buttonEl.style.display =\n",
              "          google.colab.kernel.accessAllowed ? 'block' : 'none';\n",
              "\n",
              "        async function convertToInteractive(key) {\n",
              "          const element = document.querySelector('#df-a1ec1907-e1ba-413a-aa69-5073941c3f3f');\n",
              "          const dataTable =\n",
              "            await google.colab.kernel.invokeFunction('convertToInteractive',\n",
              "                                                     [key], {});\n",
              "          if (!dataTable) return;\n",
              "\n",
              "          const docLinkHtml = 'Like what you see? Visit the ' +\n",
              "            '<a target=\"_blank\" href=https://colab.research.google.com/notebooks/data_table.ipynb>data table notebook</a>'\n",
              "            + ' to learn more about interactive tables.';\n",
              "          element.innerHTML = '';\n",
              "          dataTable['output_type'] = 'display_data';\n",
              "          await google.colab.output.renderOutput(dataTable, element);\n",
              "          const docLink = document.createElement('div');\n",
              "          docLink.innerHTML = docLinkHtml;\n",
              "          element.appendChild(docLink);\n",
              "        }\n",
              "      </script>\n",
              "    </div>\n",
              "  </div>\n",
              "  "
            ]
          },
          "metadata": {},
          "execution_count": 176
        }
      ]
    },
    {
      "cell_type": "markdown",
      "source": [
        "Ademas, por grupo, obsrevamos la graficamos la frecuencia de las prefesiones para conocer mas."
      ],
      "metadata": {
        "id": "_867PzjJxFE1"
      }
    },
    {
      "cell_type": "code",
      "source": [
        "s = sdf.groupby('Grupo')['Profession'].value_counts()\n",
        "s.unstack().plot.bar(stacked=True, rot=0)\n",
        "plt.legend(loc='upper right')"
      ],
      "metadata": {
        "colab": {
          "base_uri": "https://localhost:8080/",
          "height": 297
        },
        "id": "EKl-S2dIqPSD",
        "outputId": "479e9f5b-203e-4aa1-a710-62361705d4d7"
      },
      "execution_count": null,
      "outputs": [
        {
          "output_type": "execute_result",
          "data": {
            "text/plain": [
              "<matplotlib.legend.Legend at 0x7f0e796fe040>"
            ]
          },
          "metadata": {},
          "execution_count": 198
        },
        {
          "output_type": "display_data",
          "data": {
            "text/plain": [
              "<Figure size 432x288 with 1 Axes>"
            ],
            "image/png": "[encoded data removed]"
          },
          "metadata": {
            "needs_background": "light"
          }
        }
      ]
    },
    {
      "cell_type": "markdown",
      "source": [
        "Healthcare-0, Engineer-1, Lawyer-2, Entertainment-3, Artist-4, Executive-5, Doctor-6, Homemaker-7, Marketing-8 "
      ],
      "metadata": {
        "id": "5c2MVRifvAzN"
      }
    },
    {
      "cell_type": "markdown",
      "source": [
        "#Grupo 0\n",
        "\n",
        "70% de los clientes son mujeres, casi mismo numero de personas que se han casado y nunca se han casado, la edad promedio es de 39 años, 63% de de las personas se han graduado y el tamaño promedio familiar es de 22. En su mayoria son ingenieros o estan en healthcare."
      ],
      "metadata": {
        "id": "aAdT0AMf_kxI"
      }
    },
    {
      "cell_type": "markdown",
      "source": [
        "#Grupo 1\n",
        "\n",
        "65% de los clientes son hombres, un poco más del 80% se han casado, la edad promedio es de 42 años, 68% de de las personas se han graduado y el tamaño promedio familiar es de 43. Son creativos, son mas artistas o de entretenimiento."
      ],
      "metadata": {
        "id": "3Os8km5OBz3-"
      }
    },
    {
      "cell_type": "markdown",
      "source": [
        "#Grupo 2\n",
        "\n",
        "Es casi el mismo numero hombres y mujeres, un poco menos de la mitad se ha casado, la edad promedio es de 36 años, la mitad se ha graduado la otra mitad no, y el tamaño promedio familiar es de 27. Doctores o en marketing"
      ],
      "metadata": {
        "id": "fg_T_bsM_k5g"
      }
    },
    {
      "cell_type": "markdown",
      "source": [
        "#Grupo 3\n",
        "\n",
        "Son casi la misma cantidad de hombres y mujeres, mismo numero de personas que se han casado y nunca se han casado, la edad promedio es de 41 años, 82% de de las personas se han graduado y el tamaño promedio familiar es de 18. Son creativos, son mas artistas o de entretenimiento."
      ],
      "metadata": {
        "id": "aIFDoEhA_lFT"
      }
    },
    {
      "cell_type": "markdown",
      "source": [
        "#Grupo 4\n",
        "\n",
        "70% de los clientes son hombres, casi en su totalidad son personas que se han casado, la edad promedio es de 58 años, 76% de de las personas se han graduado y el tamaño promedio familiar es de 26. Artistas o ejecutivos."
      ],
      "metadata": {
        "id": "M16LiLB5GdS_"
      }
    },
    {
      "cell_type": "markdown",
      "source": [
        "#Grupo 5\n",
        "\n",
        "Son casi la misma cantidad de hombres y mujeres, la mayoria son personas no casadas, la edad promedio es de 25 años, 23% de de las personas se han graduado y el tamaño promedio familiar es de 41. En general trabajan mas en healthcare."
      ],
      "metadata": {
        "id": "_tiJWfjRGdaT"
      }
    },
    {
      "cell_type": "markdown",
      "source": [
        "#Grupo 6\n",
        "\n",
        "Hay un poco mas de hombres que mujeres, casi todos se han casado, la edad promedio es de 74 años, 60% de de las personas se han graduado y el tamaño promedio familiar es de 19. Son abogados."
      ],
      "metadata": {
        "id": "WbdsS2bIIX2r"
      }
    }
  ]
}