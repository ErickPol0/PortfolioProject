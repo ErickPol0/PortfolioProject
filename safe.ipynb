{
  "nbformat": 4,
  "nbformat_minor": 0,
  "metadata": {
    "colab": {
      "provenance": [],
      "authorship_tag": "ABX9TyNzwKgg7MZd2YXuNxgtQFGJ",
      "include_colab_link": true
    },
    "kernelspec": {
      "name": "python3",
      "display_name": "Python 3"
    },
    "language_info": {
      "name": "python"
    }
  },
  "cells": [
    {
      "cell_type": "markdown",
      "metadata": {
        "id": "view-in-github",
        "colab_type": "text"
      },
      "source": [
        "<a href=\"https://colab.research.google.com/github/ErickPol0/PortfolioProject/blob/main/safe.ipynb\" target=\"_parent\"><img src=\"https://colab.research.google.com/assets/colab-badge.svg\" alt=\"Open In Colab\"/></a>"
      ]
    },
    {
      "cell_type": "markdown",
      "source": [
        "#Práctica usando SAFE\n",
        "\n",
        "**Erick Polo - 190300372**"
      ],
      "metadata": {
        "id": "1Ty2-voPa-Pp"
      }
    },
    {
      "cell_type": "markdown",
      "source": [
        "#Librerias"
      ],
      "metadata": {
        "id": "pV9I2nYnbSBS"
      }
    },
    {
      "cell_type": "code",
      "source": [
        "pip install safe-transformer"
      ],
      "metadata": {
        "id": "fZFUPnima8EE"
      },
      "execution_count": null,
      "outputs": []
    },
    {
      "cell_type": "code",
      "source": [
        "import pandas as pd\n",
        "from sklearn.preprocessing import StandardScaler\n",
        "from sklearn.model_selection import train_test_split\n",
        "from sklearn.linear_model import LogisticRegression\n",
        "from sklearn.preprocessing import OneHotEncoder\n",
        "from sklearn.compose import make_column_transformer\n",
        "from sklearn.linear_model import LinearRegression\n",
        "from SafeTransformer import SafeTransformer\n",
        "from sklearn.ensemble import GradientBoostingClassifier\n",
        "from sklearn.ensemble import RandomForestClassifier\n",
        "from sklearn.pipeline import Pipeline\n"
      ],
      "metadata": {
        "id": "5yGsArVDCbi5"
      },
      "execution_count": null,
      "outputs": []
    },
    {
      "cell_type": "markdown",
      "source": [
        "#Importacion de los datos"
      ],
      "metadata": {
        "id": "vspBNdeXbVRM"
      }
    },
    {
      "cell_type": "code",
      "source": [
        "h1 = pd.read_csv('H1.csv')\n",
        "h1.head()"
      ],
      "metadata": {
        "colab": {
          "base_uri": "https://localhost:8080/",
          "height": 299
        },
        "id": "pvjLtl4NiIMO",
        "outputId": "d0656506-73c3-49b9-b52f-d708107cda5e"
      },
      "execution_count": null,
      "outputs": [
        {
          "output_type": "execute_result",
          "data": {
            "text/plain": [
              "   IsCanceled  LeadTime  ArrivalDateYear ArrivalDateMonth  \\\n",
              "0           0       342             2015             July   \n",
              "1           0       737             2015             July   \n",
              "2           0         7             2015             July   \n",
              "3           0        13             2015             July   \n",
              "4           0        14             2015             July   \n",
              "\n",
              "   ArrivalDateWeekNumber  ArrivalDateDayOfMonth  StaysInWeekendNights  \\\n",
              "0                     27                      1                     0   \n",
              "1                     27                      1                     0   \n",
              "2                     27                      1                     0   \n",
              "3                     27                      1                     0   \n",
              "4                     27                      1                     0   \n",
              "\n",
              "   StaysInWeekNights  Adults  Children  ...      DepositType        Agent  \\\n",
              "0                  0       2         0  ...  No Deposit              NULL   \n",
              "1                  0       2         0  ...  No Deposit              NULL   \n",
              "2                  1       1         0  ...  No Deposit              NULL   \n",
              "3                  1       1         0  ...  No Deposit               304   \n",
              "4                  2       2         0  ...  No Deposit               240   \n",
              "\n",
              "       Company DaysInWaitingList CustomerType   ADR  RequiredCarParkingSpaces  \\\n",
              "0         NULL                 0    Transient   0.0                         0   \n",
              "1         NULL                 0    Transient   0.0                         0   \n",
              "2         NULL                 0    Transient  75.0                         0   \n",
              "3         NULL                 0    Transient  75.0                         0   \n",
              "4         NULL                 0    Transient  98.0                         0   \n",
              "\n",
              "   TotalOfSpecialRequests ReservationStatus ReservationStatusDate  \n",
              "0                       0         Check-Out            2015-07-01  \n",
              "1                       0         Check-Out            2015-07-01  \n",
              "2                       0         Check-Out            2015-07-02  \n",
              "3                       0         Check-Out            2015-07-02  \n",
              "4                       1         Check-Out            2015-07-03  \n",
              "\n",
              "[5 rows x 31 columns]"
            ],
            "text/html": [
              "\n",
              "  <div id=\"df-9e7a982a-3412-42af-a428-bd17ca13df00\">\n",
              "    <div class=\"colab-df-container\">\n",
              "      <div>\n",
              "<style scoped>\n",
              "    .dataframe tbody tr th:only-of-type {\n",
              "        vertical-align: middle;\n",
              "    }\n",
              "\n",
              "    .dataframe tbody tr th {\n",
              "        vertical-align: top;\n",
              "    }\n",
              "\n",
              "    .dataframe thead th {\n",
              "        text-align: right;\n",
              "    }\n",
              "</style>\n",
              "<table border=\"1\" class=\"dataframe\">\n",
              "  <thead>\n",
              "    <tr style=\"text-align: right;\">\n",
              "      <th></th>\n",
              "      <th>IsCanceled</th>\n",
              "      <th>LeadTime</th>\n",
              "      <th>ArrivalDateYear</th>\n",
              "      <th>ArrivalDateMonth</th>\n",
              "      <th>ArrivalDateWeekNumber</th>\n",
              "      <th>ArrivalDateDayOfMonth</th>\n",
              "      <th>StaysInWeekendNights</th>\n",
              "      <th>StaysInWeekNights</th>\n",
              "      <th>Adults</th>\n",
              "      <th>Children</th>\n",
              "      <th>...</th>\n",
              "      <th>DepositType</th>\n",
              "      <th>Agent</th>\n",
              "      <th>Company</th>\n",
              "      <th>DaysInWaitingList</th>\n",
              "      <th>CustomerType</th>\n",
              "      <th>ADR</th>\n",
              "      <th>RequiredCarParkingSpaces</th>\n",
              "      <th>TotalOfSpecialRequests</th>\n",
              "      <th>ReservationStatus</th>\n",
              "      <th>ReservationStatusDate</th>\n",
              "    </tr>\n",
              "  </thead>\n",
              "  <tbody>\n",
              "    <tr>\n",
              "      <th>0</th>\n",
              "      <td>0</td>\n",
              "      <td>342</td>\n",
              "      <td>2015</td>\n",
              "      <td>July</td>\n",
              "      <td>27</td>\n",
              "      <td>1</td>\n",
              "      <td>0</td>\n",
              "      <td>0</td>\n",
              "      <td>2</td>\n",
              "      <td>0</td>\n",
              "      <td>...</td>\n",
              "      <td>No Deposit</td>\n",
              "      <td>NULL</td>\n",
              "      <td>NULL</td>\n",
              "      <td>0</td>\n",
              "      <td>Transient</td>\n",
              "      <td>0.0</td>\n",
              "      <td>0</td>\n",
              "      <td>0</td>\n",
              "      <td>Check-Out</td>\n",
              "      <td>2015-07-01</td>\n",
              "    </tr>\n",
              "    <tr>\n",
              "      <th>1</th>\n",
              "      <td>0</td>\n",
              "      <td>737</td>\n",
              "      <td>2015</td>\n",
              "      <td>July</td>\n",
              "      <td>27</td>\n",
              "      <td>1</td>\n",
              "      <td>0</td>\n",
              "      <td>0</td>\n",
              "      <td>2</td>\n",
              "      <td>0</td>\n",
              "      <td>...</td>\n",
              "      <td>No Deposit</td>\n",
              "      <td>NULL</td>\n",
              "      <td>NULL</td>\n",
              "      <td>0</td>\n",
              "      <td>Transient</td>\n",
              "      <td>0.0</td>\n",
              "      <td>0</td>\n",
              "      <td>0</td>\n",
              "      <td>Check-Out</td>\n",
              "      <td>2015-07-01</td>\n",
              "    </tr>\n",
              "    <tr>\n",
              "      <th>2</th>\n",
              "      <td>0</td>\n",
              "      <td>7</td>\n",
              "      <td>2015</td>\n",
              "      <td>July</td>\n",
              "      <td>27</td>\n",
              "      <td>1</td>\n",
              "      <td>0</td>\n",
              "      <td>1</td>\n",
              "      <td>1</td>\n",
              "      <td>0</td>\n",
              "      <td>...</td>\n",
              "      <td>No Deposit</td>\n",
              "      <td>NULL</td>\n",
              "      <td>NULL</td>\n",
              "      <td>0</td>\n",
              "      <td>Transient</td>\n",
              "      <td>75.0</td>\n",
              "      <td>0</td>\n",
              "      <td>0</td>\n",
              "      <td>Check-Out</td>\n",
              "      <td>2015-07-02</td>\n",
              "    </tr>\n",
              "    <tr>\n",
              "      <th>3</th>\n",
              "      <td>0</td>\n",
              "      <td>13</td>\n",
              "      <td>2015</td>\n",
              "      <td>July</td>\n",
              "      <td>27</td>\n",
              "      <td>1</td>\n",
              "      <td>0</td>\n",
              "      <td>1</td>\n",
              "      <td>1</td>\n",
              "      <td>0</td>\n",
              "      <td>...</td>\n",
              "      <td>No Deposit</td>\n",
              "      <td>304</td>\n",
              "      <td>NULL</td>\n",
              "      <td>0</td>\n",
              "      <td>Transient</td>\n",
              "      <td>75.0</td>\n",
              "      <td>0</td>\n",
              "      <td>0</td>\n",
              "      <td>Check-Out</td>\n",
              "      <td>2015-07-02</td>\n",
              "    </tr>\n",
              "    <tr>\n",
              "      <th>4</th>\n",
              "      <td>0</td>\n",
              "      <td>14</td>\n",
              "      <td>2015</td>\n",
              "      <td>July</td>\n",
              "      <td>27</td>\n",
              "      <td>1</td>\n",
              "      <td>0</td>\n",
              "      <td>2</td>\n",
              "      <td>2</td>\n",
              "      <td>0</td>\n",
              "      <td>...</td>\n",
              "      <td>No Deposit</td>\n",
              "      <td>240</td>\n",
              "      <td>NULL</td>\n",
              "      <td>0</td>\n",
              "      <td>Transient</td>\n",
              "      <td>98.0</td>\n",
              "      <td>0</td>\n",
              "      <td>1</td>\n",
              "      <td>Check-Out</td>\n",
              "      <td>2015-07-03</td>\n",
              "    </tr>\n",
              "  </tbody>\n",
              "</table>\n",
              "<p>5 rows × 31 columns</p>\n",
              "</div>\n",
              "      <button class=\"colab-df-convert\" onclick=\"convertToInteractive('df-9e7a982a-3412-42af-a428-bd17ca13df00')\"\n",
              "              title=\"Convert this dataframe to an interactive table.\"\n",
              "              style=\"display:none;\">\n",
              "        \n",
              "  <svg xmlns=\"http://www.w3.org/2000/svg\" height=\"24px\"viewBox=\"0 0 24 24\"\n",
              "       width=\"24px\">\n",
              "    <path d=\"M0 0h24v24H0V0z\" fill=\"none\"/>\n",
              "    <path d=\"M18.56 5.44l.94 2.06.94-2.06 2.06-.94-2.06-.94-.94-2.06-.94 2.06-2.06.94zm-11 1L8.5 8.5l.94-2.06 2.06-.94-2.06-.94L8.5 2.5l-.94 2.06-2.06.94zm10 10l.94 2.06.94-2.06 2.06-.94-2.06-.94-.94-2.06-.94 2.06-2.06.94z\"/><path d=\"M17.41 7.96l-1.37-1.37c-.4-.4-.92-.59-1.43-.59-.52 0-1.04.2-1.43.59L10.3 9.45l-7.72 7.72c-.78.78-.78 2.05 0 2.83L4 21.41c.39.39.9.59 1.41.59.51 0 1.02-.2 1.41-.59l7.78-7.78 2.81-2.81c.8-.78.8-2.07 0-2.86zM5.41 20L4 18.59l7.72-7.72 1.47 1.35L5.41 20z\"/>\n",
              "  </svg>\n",
              "      </button>\n",
              "      \n",
              "  <style>\n",
              "    .colab-df-container {\n",
              "      display:flex;\n",
              "      flex-wrap:wrap;\n",
              "      gap: 12px;\n",
              "    }\n",
              "\n",
              "    .colab-df-convert {\n",
              "      background-color: #E8F0FE;\n",
              "      border: none;\n",
              "      border-radius: 50%;\n",
              "      cursor: pointer;\n",
              "      display: none;\n",
              "      fill: #1967D2;\n",
              "      height: 32px;\n",
              "      padding: 0 0 0 0;\n",
              "      width: 32px;\n",
              "    }\n",
              "\n",
              "    .colab-df-convert:hover {\n",
              "      background-color: #E2EBFA;\n",
              "      box-shadow: 0px 1px 2px rgba(60, 64, 67, 0.3), 0px 1px 3px 1px rgba(60, 64, 67, 0.15);\n",
              "      fill: #174EA6;\n",
              "    }\n",
              "\n",
              "    [theme=dark] .colab-df-convert {\n",
              "      background-color: #3B4455;\n",
              "      fill: #D2E3FC;\n",
              "    }\n",
              "\n",
              "    [theme=dark] .colab-df-convert:hover {\n",
              "      background-color: #434B5C;\n",
              "      box-shadow: 0px 1px 3px 1px rgba(0, 0, 0, 0.15);\n",
              "      filter: drop-shadow(0px 1px 2px rgba(0, 0, 0, 0.3));\n",
              "      fill: #FFFFFF;\n",
              "    }\n",
              "  </style>\n",
              "\n",
              "      <script>\n",
              "        const buttonEl =\n",
              "          document.querySelector('#df-9e7a982a-3412-42af-a428-bd17ca13df00 button.colab-df-convert');\n",
              "        buttonEl.style.display =\n",
              "          google.colab.kernel.accessAllowed ? 'block' : 'none';\n",
              "\n",
              "        async function convertToInteractive(key) {\n",
              "          const element = document.querySelector('#df-9e7a982a-3412-42af-a428-bd17ca13df00');\n",
              "          const dataTable =\n",
              "            await google.colab.kernel.invokeFunction('convertToInteractive',\n",
              "                                                     [key], {});\n",
              "          if (!dataTable) return;\n",
              "\n",
              "          const docLinkHtml = 'Like what you see? Visit the ' +\n",
              "            '<a target=\"_blank\" href=https://colab.research.google.com/notebooks/data_table.ipynb>data table notebook</a>'\n",
              "            + ' to learn more about interactive tables.';\n",
              "          element.innerHTML = '';\n",
              "          dataTable['output_type'] = 'display_data';\n",
              "          await google.colab.output.renderOutput(dataTable, element);\n",
              "          const docLink = document.createElement('div');\n",
              "          docLink.innerHTML = docLinkHtml;\n",
              "          element.appendChild(docLink);\n",
              "        }\n",
              "      </script>\n",
              "    </div>\n",
              "  </div>\n",
              "  "
            ]
          },
          "metadata": {},
          "execution_count": 130
        }
      ]
    },
    {
      "cell_type": "code",
      "source": [
        "h2 = pd.read_csv('H2.csv')\n",
        "h2.head()"
      ],
      "metadata": {
        "colab": {
          "base_uri": "https://localhost:8080/",
          "height": 299
        },
        "id": "wPQCfj6L0lOh",
        "outputId": "35dc8a53-23d8-4e33-fc40-c8865b10df27"
      },
      "execution_count": null,
      "outputs": [
        {
          "output_type": "execute_result",
          "data": {
            "text/plain": [
              "   IsCanceled  LeadTime  ArrivalDateYear ArrivalDateMonth  \\\n",
              "0           0         6             2015             July   \n",
              "1           1        88             2015             July   \n",
              "2           1        65             2015             July   \n",
              "3           1        92             2015             July   \n",
              "4           1       100             2015             July   \n",
              "\n",
              "   ArrivalDateWeekNumber  ArrivalDateDayOfMonth  StaysInWeekendNights  \\\n",
              "0                     27                      1                     0   \n",
              "1                     27                      1                     0   \n",
              "2                     27                      1                     0   \n",
              "3                     27                      1                     2   \n",
              "4                     27                      2                     0   \n",
              "\n",
              "   StaysInWeekNights  Adults  Children  ...      DepositType        Agent  \\\n",
              "0                  2       1       0.0  ...  No Deposit                 6   \n",
              "1                  4       2       0.0  ...  No Deposit                 9   \n",
              "2                  4       1       0.0  ...  No Deposit                 9   \n",
              "3                  4       2       0.0  ...  No Deposit                 9   \n",
              "4                  2       2       0.0  ...  No Deposit                 9   \n",
              "\n",
              "       Company DaysInWaitingList CustomerType   ADR  RequiredCarParkingSpaces  \\\n",
              "0         NULL                 0    Transient   0.0                         0   \n",
              "1         NULL                 0    Transient  76.5                         0   \n",
              "2         NULL                 0    Transient  68.0                         0   \n",
              "3         NULL                 0    Transient  76.5                         0   \n",
              "4         NULL                 0    Transient  76.5                         0   \n",
              "\n",
              "   TotalOfSpecialRequests ReservationStatus ReservationStatusDate  \n",
              "0                       0         Check-Out            2015-07-03  \n",
              "1                       1          Canceled            2015-07-01  \n",
              "2                       1          Canceled            2015-04-30  \n",
              "3                       2          Canceled            2015-06-23  \n",
              "4                       1          Canceled            2015-04-02  \n",
              "\n",
              "[5 rows x 31 columns]"
            ],
            "text/html": [
              "\n",
              "  <div id=\"df-4115cfe8-45e0-4037-86bc-bde7620e6db2\">\n",
              "    <div class=\"colab-df-container\">\n",
              "      <div>\n",
              "<style scoped>\n",
              "    .dataframe tbody tr th:only-of-type {\n",
              "        vertical-align: middle;\n",
              "    }\n",
              "\n",
              "    .dataframe tbody tr th {\n",
              "        vertical-align: top;\n",
              "    }\n",
              "\n",
              "    .dataframe thead th {\n",
              "        text-align: right;\n",
              "    }\n",
              "</style>\n",
              "<table border=\"1\" class=\"dataframe\">\n",
              "  <thead>\n",
              "    <tr style=\"text-align: right;\">\n",
              "      <th></th>\n",
              "      <th>IsCanceled</th>\n",
              "      <th>LeadTime</th>\n",
              "      <th>ArrivalDateYear</th>\n",
              "      <th>ArrivalDateMonth</th>\n",
              "      <th>ArrivalDateWeekNumber</th>\n",
              "      <th>ArrivalDateDayOfMonth</th>\n",
              "      <th>StaysInWeekendNights</th>\n",
              "      <th>StaysInWeekNights</th>\n",
              "      <th>Adults</th>\n",
              "      <th>Children</th>\n",
              "      <th>...</th>\n",
              "      <th>DepositType</th>\n",
              "      <th>Agent</th>\n",
              "      <th>Company</th>\n",
              "      <th>DaysInWaitingList</th>\n",
              "      <th>CustomerType</th>\n",
              "      <th>ADR</th>\n",
              "      <th>RequiredCarParkingSpaces</th>\n",
              "      <th>TotalOfSpecialRequests</th>\n",
              "      <th>ReservationStatus</th>\n",
              "      <th>ReservationStatusDate</th>\n",
              "    </tr>\n",
              "  </thead>\n",
              "  <tbody>\n",
              "    <tr>\n",
              "      <th>0</th>\n",
              "      <td>0</td>\n",
              "      <td>6</td>\n",
              "      <td>2015</td>\n",
              "      <td>July</td>\n",
              "      <td>27</td>\n",
              "      <td>1</td>\n",
              "      <td>0</td>\n",
              "      <td>2</td>\n",
              "      <td>1</td>\n",
              "      <td>0.0</td>\n",
              "      <td>...</td>\n",
              "      <td>No Deposit</td>\n",
              "      <td>6</td>\n",
              "      <td>NULL</td>\n",
              "      <td>0</td>\n",
              "      <td>Transient</td>\n",
              "      <td>0.0</td>\n",
              "      <td>0</td>\n",
              "      <td>0</td>\n",
              "      <td>Check-Out</td>\n",
              "      <td>2015-07-03</td>\n",
              "    </tr>\n",
              "    <tr>\n",
              "      <th>1</th>\n",
              "      <td>1</td>\n",
              "      <td>88</td>\n",
              "      <td>2015</td>\n",
              "      <td>July</td>\n",
              "      <td>27</td>\n",
              "      <td>1</td>\n",
              "      <td>0</td>\n",
              "      <td>4</td>\n",
              "      <td>2</td>\n",
              "      <td>0.0</td>\n",
              "      <td>...</td>\n",
              "      <td>No Deposit</td>\n",
              "      <td>9</td>\n",
              "      <td>NULL</td>\n",
              "      <td>0</td>\n",
              "      <td>Transient</td>\n",
              "      <td>76.5</td>\n",
              "      <td>0</td>\n",
              "      <td>1</td>\n",
              "      <td>Canceled</td>\n",
              "      <td>2015-07-01</td>\n",
              "    </tr>\n",
              "    <tr>\n",
              "      <th>2</th>\n",
              "      <td>1</td>\n",
              "      <td>65</td>\n",
              "      <td>2015</td>\n",
              "      <td>July</td>\n",
              "      <td>27</td>\n",
              "      <td>1</td>\n",
              "      <td>0</td>\n",
              "      <td>4</td>\n",
              "      <td>1</td>\n",
              "      <td>0.0</td>\n",
              "      <td>...</td>\n",
              "      <td>No Deposit</td>\n",
              "      <td>9</td>\n",
              "      <td>NULL</td>\n",
              "      <td>0</td>\n",
              "      <td>Transient</td>\n",
              "      <td>68.0</td>\n",
              "      <td>0</td>\n",
              "      <td>1</td>\n",
              "      <td>Canceled</td>\n",
              "      <td>2015-04-30</td>\n",
              "    </tr>\n",
              "    <tr>\n",
              "      <th>3</th>\n",
              "      <td>1</td>\n",
              "      <td>92</td>\n",
              "      <td>2015</td>\n",
              "      <td>July</td>\n",
              "      <td>27</td>\n",
              "      <td>1</td>\n",
              "      <td>2</td>\n",
              "      <td>4</td>\n",
              "      <td>2</td>\n",
              "      <td>0.0</td>\n",
              "      <td>...</td>\n",
              "      <td>No Deposit</td>\n",
              "      <td>9</td>\n",
              "      <td>NULL</td>\n",
              "      <td>0</td>\n",
              "      <td>Transient</td>\n",
              "      <td>76.5</td>\n",
              "      <td>0</td>\n",
              "      <td>2</td>\n",
              "      <td>Canceled</td>\n",
              "      <td>2015-06-23</td>\n",
              "    </tr>\n",
              "    <tr>\n",
              "      <th>4</th>\n",
              "      <td>1</td>\n",
              "      <td>100</td>\n",
              "      <td>2015</td>\n",
              "      <td>July</td>\n",
              "      <td>27</td>\n",
              "      <td>2</td>\n",
              "      <td>0</td>\n",
              "      <td>2</td>\n",
              "      <td>2</td>\n",
              "      <td>0.0</td>\n",
              "      <td>...</td>\n",
              "      <td>No Deposit</td>\n",
              "      <td>9</td>\n",
              "      <td>NULL</td>\n",
              "      <td>0</td>\n",
              "      <td>Transient</td>\n",
              "      <td>76.5</td>\n",
              "      <td>0</td>\n",
              "      <td>1</td>\n",
              "      <td>Canceled</td>\n",
              "      <td>2015-04-02</td>\n",
              "    </tr>\n",
              "  </tbody>\n",
              "</table>\n",
              "<p>5 rows × 31 columns</p>\n",
              "</div>\n",
              "      <button class=\"colab-df-convert\" onclick=\"convertToInteractive('df-4115cfe8-45e0-4037-86bc-bde7620e6db2')\"\n",
              "              title=\"Convert this dataframe to an interactive table.\"\n",
              "              style=\"display:none;\">\n",
              "        \n",
              "  <svg xmlns=\"http://www.w3.org/2000/svg\" height=\"24px\"viewBox=\"0 0 24 24\"\n",
              "       width=\"24px\">\n",
              "    <path d=\"M0 0h24v24H0V0z\" fill=\"none\"/>\n",
              "    <path d=\"M18.56 5.44l.94 2.06.94-2.06 2.06-.94-2.06-.94-.94-2.06-.94 2.06-2.06.94zm-11 1L8.5 8.5l.94-2.06 2.06-.94-2.06-.94L8.5 2.5l-.94 2.06-2.06.94zm10 10l.94 2.06.94-2.06 2.06-.94-2.06-.94-.94-2.06-.94 2.06-2.06.94z\"/><path d=\"M17.41 7.96l-1.37-1.37c-.4-.4-.92-.59-1.43-.59-.52 0-1.04.2-1.43.59L10.3 9.45l-7.72 7.72c-.78.78-.78 2.05 0 2.83L4 21.41c.39.39.9.59 1.41.59.51 0 1.02-.2 1.41-.59l7.78-7.78 2.81-2.81c.8-.78.8-2.07 0-2.86zM5.41 20L4 18.59l7.72-7.72 1.47 1.35L5.41 20z\"/>\n",
              "  </svg>\n",
              "      </button>\n",
              "      \n",
              "  <style>\n",
              "    .colab-df-container {\n",
              "      display:flex;\n",
              "      flex-wrap:wrap;\n",
              "      gap: 12px;\n",
              "    }\n",
              "\n",
              "    .colab-df-convert {\n",
              "      background-color: #E8F0FE;\n",
              "      border: none;\n",
              "      border-radius: 50%;\n",
              "      cursor: pointer;\n",
              "      display: none;\n",
              "      fill: #1967D2;\n",
              "      height: 32px;\n",
              "      padding: 0 0 0 0;\n",
              "      width: 32px;\n",
              "    }\n",
              "\n",
              "    .colab-df-convert:hover {\n",
              "      background-color: #E2EBFA;\n",
              "      box-shadow: 0px 1px 2px rgba(60, 64, 67, 0.3), 0px 1px 3px 1px rgba(60, 64, 67, 0.15);\n",
              "      fill: #174EA6;\n",
              "    }\n",
              "\n",
              "    [theme=dark] .colab-df-convert {\n",
              "      background-color: #3B4455;\n",
              "      fill: #D2E3FC;\n",
              "    }\n",
              "\n",
              "    [theme=dark] .colab-df-convert:hover {\n",
              "      background-color: #434B5C;\n",
              "      box-shadow: 0px 1px 3px 1px rgba(0, 0, 0, 0.15);\n",
              "      filter: drop-shadow(0px 1px 2px rgba(0, 0, 0, 0.3));\n",
              "      fill: #FFFFFF;\n",
              "    }\n",
              "  </style>\n",
              "\n",
              "      <script>\n",
              "        const buttonEl =\n",
              "          document.querySelector('#df-4115cfe8-45e0-4037-86bc-bde7620e6db2 button.colab-df-convert');\n",
              "        buttonEl.style.display =\n",
              "          google.colab.kernel.accessAllowed ? 'block' : 'none';\n",
              "\n",
              "        async function convertToInteractive(key) {\n",
              "          const element = document.querySelector('#df-4115cfe8-45e0-4037-86bc-bde7620e6db2');\n",
              "          const dataTable =\n",
              "            await google.colab.kernel.invokeFunction('convertToInteractive',\n",
              "                                                     [key], {});\n",
              "          if (!dataTable) return;\n",
              "\n",
              "          const docLinkHtml = 'Like what you see? Visit the ' +\n",
              "            '<a target=\"_blank\" href=https://colab.research.google.com/notebooks/data_table.ipynb>data table notebook</a>'\n",
              "            + ' to learn more about interactive tables.';\n",
              "          element.innerHTML = '';\n",
              "          dataTable['output_type'] = 'display_data';\n",
              "          await google.colab.output.renderOutput(dataTable, element);\n",
              "          const docLink = document.createElement('div');\n",
              "          docLink.innerHTML = docLinkHtml;\n",
              "          element.appendChild(docLink);\n",
              "        }\n",
              "      </script>\n",
              "    </div>\n",
              "  </div>\n",
              "  "
            ]
          },
          "metadata": {},
          "execution_count": 131
        }
      ]
    },
    {
      "cell_type": "markdown",
      "source": [
        "#Concatenacion de los datos"
      ],
      "metadata": {
        "id": "3ocJC1LubZib"
      }
    },
    {
      "cell_type": "code",
      "source": [
        "print(len(h1))\n",
        "print(len(h2))"
      ],
      "metadata": {
        "colab": {
          "base_uri": "https://localhost:8080/"
        },
        "id": "PLLWNd4G1OjX",
        "outputId": "06a234b0-cb1b-4636-f911-e3ef437626e1"
      },
      "execution_count": null,
      "outputs": [
        {
          "output_type": "stream",
          "name": "stdout",
          "text": [
            "40060\n",
            "79330\n"
          ]
        }
      ]
    },
    {
      "cell_type": "code",
      "source": [
        "frame = [h1,h2]\n",
        "h = pd.concat(frame,ignore_index=True)"
      ],
      "metadata": {
        "id": "Cc18LUQk0-M6"
      },
      "execution_count": null,
      "outputs": []
    },
    {
      "cell_type": "code",
      "source": [
        "h.info()"
      ],
      "metadata": {
        "colab": {
          "base_uri": "https://localhost:8080/"
        },
        "id": "ny_9kMnw1J84",
        "outputId": "e0b31134-ae1b-423c-86fb-f54c58f11c08"
      },
      "execution_count": null,
      "outputs": [
        {
          "output_type": "stream",
          "name": "stdout",
          "text": [
            "<class 'pandas.core.frame.DataFrame'>\n",
            "RangeIndex: 119390 entries, 0 to 119389\n",
            "Data columns (total 31 columns):\n",
            " #   Column                       Non-Null Count   Dtype  \n",
            "---  ------                       --------------   -----  \n",
            " 0   IsCanceled                   119390 non-null  int64  \n",
            " 1   LeadTime                     119390 non-null  int64  \n",
            " 2   ArrivalDateYear              119390 non-null  int64  \n",
            " 3   ArrivalDateMonth             119390 non-null  object \n",
            " 4   ArrivalDateWeekNumber        119390 non-null  int64  \n",
            " 5   ArrivalDateDayOfMonth        119390 non-null  int64  \n",
            " 6   StaysInWeekendNights         119390 non-null  int64  \n",
            " 7   StaysInWeekNights            119390 non-null  int64  \n",
            " 8   Adults                       119390 non-null  int64  \n",
            " 9   Children                     119386 non-null  float64\n",
            " 10  Babies                       119390 non-null  int64  \n",
            " 11  Meal                         119390 non-null  object \n",
            " 12  Country                      118902 non-null  object \n",
            " 13  MarketSegment                119390 non-null  object \n",
            " 14  DistributionChannel          119390 non-null  object \n",
            " 15  IsRepeatedGuest              119390 non-null  int64  \n",
            " 16  PreviousCancellations        119390 non-null  int64  \n",
            " 17  PreviousBookingsNotCanceled  119390 non-null  int64  \n",
            " 18  ReservedRoomType             119390 non-null  object \n",
            " 19  AssignedRoomType             119390 non-null  object \n",
            " 20  BookingChanges               119390 non-null  int64  \n",
            " 21  DepositType                  119390 non-null  object \n",
            " 22  Agent                        119390 non-null  object \n",
            " 23  Company                      119390 non-null  object \n",
            " 24  DaysInWaitingList            119390 non-null  int64  \n",
            " 25  CustomerType                 119390 non-null  object \n",
            " 26  ADR                          119390 non-null  float64\n",
            " 27  RequiredCarParkingSpaces     119390 non-null  int64  \n",
            " 28  TotalOfSpecialRequests       119390 non-null  int64  \n",
            " 29  ReservationStatus            119390 non-null  object \n",
            " 30  ReservationStatusDate        119390 non-null  object \n",
            "dtypes: float64(2), int64(16), object(13)\n",
            "memory usage: 28.2+ MB\n"
          ]
        }
      ]
    },
    {
      "cell_type": "markdown",
      "source": [
        "#Preprocesamiento de los datos\n",
        "\n",
        "Excluimos las variables que estorban y eliminamos aquellos registros con con valores nulos para impedir errores."
      ],
      "metadata": {
        "id": "JG02COoQbgnR"
      }
    },
    {
      "cell_type": "code",
      "source": [
        "h.drop(columns = ['ArrivalDateYear', 'Agent', 'Company','ReservationStatusDate', \n",
        "                  'DistributionChannel', 'ArrivalDateWeekNumber', \n",
        "                  'StaysInWeekendNights'], inplace = True)\n",
        "h.dropna(inplace=True)"
      ],
      "metadata": {
        "id": "vgOzuDUEBjmN"
      },
      "execution_count": null,
      "outputs": []
    },
    {
      "cell_type": "code",
      "source": [
        "#Variables independientes\n",
        "x = h.drop(columns = ['IsCanceled'])"
      ],
      "metadata": {
        "id": "acRYg7WEBmsI"
      },
      "execution_count": null,
      "outputs": []
    },
    {
      "cell_type": "markdown",
      "source": [
        "Establecemos un constructor para transformar las varuables categoricas a numericas"
      ],
      "metadata": {
        "id": "3uDCkVvihWw-"
      }
    },
    {
      "cell_type": "code",
      "source": [
        "ct = make_column_transformer((OneHotEncoder(),['Meal','ReservationStatus', \n",
        "                  'Country', 'ArrivalDateMonth', 'MarketSegment', 'DepositType', \n",
        "                  'CustomerType', 'ReservedRoomType', 'AssignedRoomType']), \n",
        "                  remainder = 'passthrough')"
      ],
      "metadata": {
        "id": "Gh3UGWSaBmua"
      },
      "execution_count": null,
      "outputs": []
    },
    {
      "cell_type": "markdown",
      "source": [
        "Con el constructor transformamos las variables categoricas y establecemos las variables independientes y tambien la variable dependiente."
      ],
      "metadata": {
        "id": "6Kx3Jb81h-MT"
      }
    },
    {
      "cell_type": "code",
      "source": [
        "x = ct.fit_transform(x).toarray()\n",
        "y = h.IsCanceled.values"
      ],
      "metadata": {
        "id": "0_qRgGlnBmxR"
      },
      "execution_count": null,
      "outputs": []
    },
    {
      "cell_type": "markdown",
      "source": [
        "#Separacion de datos para entrenamiento y prueba\n",
        "\n",
        "30% de los datos seran para prueba."
      ],
      "metadata": {
        "id": "pu1MwpXGiRnw"
      }
    },
    {
      "cell_type": "code",
      "source": [
        "xtrain, xtest, ytrain, ytest = train_test_split(x, y, test_size=0.3, random_state=0)"
      ],
      "metadata": {
        "id": "QFaxhsRx34rQ"
      },
      "execution_count": null,
      "outputs": []
    },
    {
      "cell_type": "markdown",
      "source": [
        "#Estandarizacion de los datos\n",
        "\n",
        "Como los datos tienen diferentes escalas es importante ajustarlos."
      ],
      "metadata": {
        "id": "9qSiEaKujWam"
      }
    },
    {
      "cell_type": "code",
      "source": [
        "sc_x = StandardScaler()\n",
        "xtrain = sc_x.fit_transform(xtrain)\n",
        "xtest = sc_x.transform(xtest)"
      ],
      "metadata": {
        "id": "totsdpNi4NPw"
      },
      "execution_count": null,
      "outputs": []
    },
    {
      "cell_type": "markdown",
      "source": [
        "● Evaluar la regresión logística vainilla en los conjuntos de prueba y train, indicar cuales son las conclusiones de su uso.\n",
        "\n",
        "● Evualar el modelo lineal, e indicar cuales son los problemas encontrados.\n",
        "\n",
        "● Implentar el método SAFE para transformar las variables y evaluar su desempeño.\n",
        "\n",
        "● Usar el modelo de bosque aleatorio supervisor flexible.\n",
        "\n",
        "● Transformar las variables como se indica en los dos ejemplos posteriores y luego evaluar la\n",
        "regresión logística basada en variables transformadas y justificar si se puede utilizar para\n",
        "predecir si se cancelará una reserva."
      ],
      "metadata": {
        "id": "jmKp1HgtL_yd"
      }
    },
    {
      "cell_type": "markdown",
      "source": [
        "#Regresion Logistica"
      ],
      "metadata": {
        "id": "h44BPe49Lzup"
      }
    },
    {
      "cell_type": "code",
      "source": [
        "clas = LogisticRegression(random_state = 0)\n",
        "clas.fit(xtrain, ytrain)"
      ],
      "metadata": {
        "colab": {
          "base_uri": "https://localhost:8080/",
          "height": 75
        },
        "id": "_e7cPjP-D5B6",
        "outputId": "fecee84a-52d5-4ca4-89df-12e907e35b3a"
      },
      "execution_count": null,
      "outputs": [
        {
          "output_type": "execute_result",
          "data": {
            "text/plain": [
              "LogisticRegression(random_state=0)"
            ],
            "text/html": [
              "<style>#sk-container-id-3 {color: black;background-color: white;}#sk-container-id-3 pre{padding: 0;}#sk-container-id-3 div.sk-toggleable {background-color: white;}#sk-container-id-3 label.sk-toggleable__label {cursor: pointer;display: block;width: 100%;margin-bottom: 0;padding: 0.3em;box-sizing: border-box;text-align: center;}#sk-container-id-3 label.sk-toggleable__label-arrow:before {content: \"▸\";float: left;margin-right: 0.25em;color: #696969;}#sk-container-id-3 label.sk-toggleable__label-arrow:hover:before {color: black;}#sk-container-id-3 div.sk-estimator:hover label.sk-toggleable__label-arrow:before {color: black;}#sk-container-id-3 div.sk-toggleable__content {max-height: 0;max-width: 0;overflow: hidden;text-align: left;background-color: #f0f8ff;}#sk-container-id-3 div.sk-toggleable__content pre {margin: 0.2em;color: black;border-radius: 0.25em;background-color: #f0f8ff;}#sk-container-id-3 input.sk-toggleable__control:checked~div.sk-toggleable__content {max-height: 200px;max-width: 100%;overflow: auto;}#sk-container-id-3 input.sk-toggleable__control:checked~label.sk-toggleable__label-arrow:before {content: \"▾\";}#sk-container-id-3 div.sk-estimator input.sk-toggleable__control:checked~label.sk-toggleable__label {background-color: #d4ebff;}#sk-container-id-3 div.sk-label input.sk-toggleable__control:checked~label.sk-toggleable__label {background-color: #d4ebff;}#sk-container-id-3 input.sk-hidden--visually {border: 0;clip: rect(1px 1px 1px 1px);clip: rect(1px, 1px, 1px, 1px);height: 1px;margin: -1px;overflow: hidden;padding: 0;position: absolute;width: 1px;}#sk-container-id-3 div.sk-estimator {font-family: monospace;background-color: #f0f8ff;border: 1px dotted black;border-radius: 0.25em;box-sizing: border-box;margin-bottom: 0.5em;}#sk-container-id-3 div.sk-estimator:hover {background-color: #d4ebff;}#sk-container-id-3 div.sk-parallel-item::after {content: \"\";width: 100%;border-bottom: 1px solid gray;flex-grow: 1;}#sk-container-id-3 div.sk-label:hover label.sk-toggleable__label {background-color: #d4ebff;}#sk-container-id-3 div.sk-serial::before {content: \"\";position: absolute;border-left: 1px solid gray;box-sizing: border-box;top: 0;bottom: 0;left: 50%;z-index: 0;}#sk-container-id-3 div.sk-serial {display: flex;flex-direction: column;align-items: center;background-color: white;padding-right: 0.2em;padding-left: 0.2em;position: relative;}#sk-container-id-3 div.sk-item {position: relative;z-index: 1;}#sk-container-id-3 div.sk-parallel {display: flex;align-items: stretch;justify-content: center;background-color: white;position: relative;}#sk-container-id-3 div.sk-item::before, #sk-container-id-3 div.sk-parallel-item::before {content: \"\";position: absolute;border-left: 1px solid gray;box-sizing: border-box;top: 0;bottom: 0;left: 50%;z-index: -1;}#sk-container-id-3 div.sk-parallel-item {display: flex;flex-direction: column;z-index: 1;position: relative;background-color: white;}#sk-container-id-3 div.sk-parallel-item:first-child::after {align-self: flex-end;width: 50%;}#sk-container-id-3 div.sk-parallel-item:last-child::after {align-self: flex-start;width: 50%;}#sk-container-id-3 div.sk-parallel-item:only-child::after {width: 0;}#sk-container-id-3 div.sk-dashed-wrapped {border: 1px dashed gray;margin: 0 0.4em 0.5em 0.4em;box-sizing: border-box;padding-bottom: 0.4em;background-color: white;}#sk-container-id-3 div.sk-label label {font-family: monospace;font-weight: bold;display: inline-block;line-height: 1.2em;}#sk-container-id-3 div.sk-label-container {text-align: center;}#sk-container-id-3 div.sk-container {/* jupyter's `normalize.less` sets `[hidden] { display: none; }` but bootstrap.min.css set `[hidden] { display: none !important; }` so we also need the `!important` here to be able to override the default hidden behavior on the sphinx rendered scikit-learn.org. See: https://github.com/scikit-learn/scikit-learn/issues/21755 */display: inline-block !important;position: relative;}#sk-container-id-3 div.sk-text-repr-fallback {display: none;}</style><div id=\"sk-container-id-3\" class=\"sk-top-container\"><div class=\"sk-text-repr-fallback\"><pre>LogisticRegression(random_state=0)</pre><b>In a Jupyter environment, please rerun this cell to show the HTML representation or trust the notebook. <br />On GitHub, the HTML representation is unable to render, please try loading this page with nbviewer.org.</b></div><div class=\"sk-container\" hidden><div class=\"sk-item\"><div class=\"sk-estimator sk-toggleable\"><input class=\"sk-toggleable__control sk-hidden--visually\" id=\"sk-estimator-id-7\" type=\"checkbox\" checked><label for=\"sk-estimator-id-7\" class=\"sk-toggleable__label sk-toggleable__label-arrow\">LogisticRegression</label><div class=\"sk-toggleable__content\"><pre>LogisticRegression(random_state=0)</pre></div></div></div></div></div>"
            ]
          },
          "metadata": {},
          "execution_count": 141
        }
      ]
    },
    {
      "cell_type": "code",
      "source": [
        "clas.score(xtest, ytest)"
      ],
      "metadata": {
        "colab": {
          "base_uri": "https://localhost:8080/"
        },
        "id": "Gq8ogxTtEp_Z",
        "outputId": "250fddea-edb3-449a-c0d2-7a01bd6cd164"
      },
      "execution_count": null,
      "outputs": [
        {
          "output_type": "execute_result",
          "data": {
            "text/plain": [
              "1.0"
            ]
          },
          "metadata": {},
          "execution_count": 142
        }
      ]
    },
    {
      "cell_type": "markdown",
      "source": [
        "Aparentemente nuestro modelo de regresion logistica es muy bueno, tiene una r2 de 1, lo que quiere decir que es 100% preciso."
      ],
      "metadata": {
        "id": "MAod0URPjl-V"
      }
    },
    {
      "cell_type": "markdown",
      "source": [
        "#Regresion Lineal\n",
        "\n",
        "Se supone no tendriamos que utilizar un modelo de regresion, pues la variable de respuesta es categorica binaria, por lo que este modelo no tendria valor. Para el modelo lineal hacemos lo mismo excepto estandarizar los datos."
      ],
      "metadata": {
        "id": "qk8jtr27MMw_"
      }
    },
    {
      "cell_type": "code",
      "source": [
        "lm = LinearRegression()\n",
        "\n",
        "x = h.drop(columns = ['IsCanceled'])\n",
        "y = h.IsCanceled\n",
        "\n",
        "x = ct.fit_transform(x).toarray()\n",
        "\n",
        "xtrain, xtest, ytrain, ytest = train_test_split(x, y, test_size=0.3, random_state=0)\n",
        "\n",
        "lm.fit(xtrain, ytrain)\n",
        "lm.score(xtest, ytest)"
      ],
      "metadata": {
        "colab": {
          "base_uri": "https://localhost:8080/"
        },
        "id": "OYrpFT6FML3l",
        "outputId": "8542f5cf-f960-460b-807d-ccab5b75dc04"
      },
      "execution_count": null,
      "outputs": [
        {
          "output_type": "execute_result",
          "data": {
            "text/plain": [
              "0.9999999999995676"
            ]
          },
          "metadata": {},
          "execution_count": 143
        }
      ]
    },
    {
      "cell_type": "markdown",
      "source": [
        "#Safe\n",
        "\n",
        "En la implementacion del codigo de github, se lleva a cabo la separacion para prueba y entrenamiento, despues se lleva a cabo una potenciacion de gradiete de regresion, nosotros como estamos haciendo un trabajo de clasificacion, implementamos uno de clasificacion."
      ],
      "metadata": {
        "id": "Xtt1PiA9PTsJ"
      }
    },
    {
      "cell_type": "code",
      "source": [
        "x = h.drop(columns = ['IsCanceled'])\n",
        "x = ct.fit_transform(x).toarray()\n",
        "y = h.IsCanceled.values\n",
        "\n",
        "xtrain, xtest, ytrain, ytest = train_test_split(x, y, test_size=0.3, random_state=0)\n",
        "\n",
        "surrogate_model = GradientBoostingClassifier(learning_rate=0.1)\n",
        "\n",
        "surrogate_model = surrogate_model.fit(xtrain, ytrain)"
      ],
      "metadata": {
        "id": "wCtBrTCOPXYN"
      },
      "execution_count": null,
      "outputs": []
    },
    {
      "cell_type": "code",
      "source": [
        "xtrain = pd.DataFrame(xtrain)\n",
        "ytrain = pd.DataFrame(ytrain)"
      ],
      "metadata": {
        "id": "8PK8OujOW3bG"
      },
      "execution_count": null,
      "outputs": []
    },
    {
      "cell_type": "code",
      "source": [
        "rd_clf = RandomForestClassifier()\n",
        "safe_transformer = SafeTransformer(surrogate_model, penalty = 0.84)\n",
        "pipe = Pipeline(steps=[('safe', safe_transformer), ('cls', rd_clf)])\n",
        "\n",
        "pipe = pipe.fit(xtrain, ytrain)"
      ],
      "metadata": {
        "colab": {
          "base_uri": "https://localhost:8080/",
          "height": 362
        },
        "id": "YQN_tepAR45n",
        "outputId": "eed604ab-fb12-4c70-d7a5-4d831fa831fd"
      },
      "execution_count": null,
      "outputs": [
        {
          "output_type": "error",
          "ename": "KeyboardInterrupt",
          "evalue": "ignored",
          "traceback": [
            "\u001b[0;31m---------------------------------------------------------------------------\u001b[0m",
            "\u001b[0;31mKeyboardInterrupt\u001b[0m                         Traceback (most recent call last)",
            "\u001b[0;32m<ipython-input-148-757fc554cf67>\u001b[0m in \u001b[0;36m<cell line: 5>\u001b[0;34m()\u001b[0m\n\u001b[1;32m      3\u001b[0m \u001b[0mpipe\u001b[0m \u001b[0;34m=\u001b[0m \u001b[0mPipeline\u001b[0m\u001b[0;34m(\u001b[0m\u001b[0msteps\u001b[0m\u001b[0;34m=\u001b[0m\u001b[0;34m[\u001b[0m\u001b[0;34m(\u001b[0m\u001b[0;34m'safe'\u001b[0m\u001b[0;34m,\u001b[0m \u001b[0msafe_transformer\u001b[0m\u001b[0;34m)\u001b[0m\u001b[0;34m,\u001b[0m \u001b[0;34m(\u001b[0m\u001b[0;34m'cls'\u001b[0m\u001b[0;34m,\u001b[0m \u001b[0mrd_clf\u001b[0m\u001b[0;34m)\u001b[0m\u001b[0;34m]\u001b[0m\u001b[0;34m)\u001b[0m\u001b[0;34m\u001b[0m\u001b[0;34m\u001b[0m\u001b[0m\n\u001b[1;32m      4\u001b[0m \u001b[0;34m\u001b[0m\u001b[0m\n\u001b[0;32m----> 5\u001b[0;31m \u001b[0mpipe\u001b[0m \u001b[0;34m=\u001b[0m \u001b[0mpipe\u001b[0m\u001b[0;34m.\u001b[0m\u001b[0mfit\u001b[0m\u001b[0;34m(\u001b[0m\u001b[0mxtrain\u001b[0m\u001b[0;34m,\u001b[0m \u001b[0mytrain\u001b[0m\u001b[0;34m)\u001b[0m\u001b[0;34m\u001b[0m\u001b[0;34m\u001b[0m\u001b[0m\n\u001b[0m",
            "\u001b[0;32m/usr/local/lib/python3.9/dist-packages/sklearn/pipeline.py\u001b[0m in \u001b[0;36mfit\u001b[0;34m(self, X, y, **fit_params)\u001b[0m\n\u001b[1;32m    399\u001b[0m         \"\"\"\n\u001b[1;32m    400\u001b[0m         \u001b[0mfit_params_steps\u001b[0m \u001b[0;34m=\u001b[0m \u001b[0mself\u001b[0m\u001b[0;34m.\u001b[0m\u001b[0m_check_fit_params\u001b[0m\u001b[0;34m(\u001b[0m\u001b[0;34m**\u001b[0m\u001b[0mfit_params\u001b[0m\u001b[0;34m)\u001b[0m\u001b[0;34m\u001b[0m\u001b[0;34m\u001b[0m\u001b[0m\n\u001b[0;32m--> 401\u001b[0;31m         \u001b[0mXt\u001b[0m \u001b[0;34m=\u001b[0m \u001b[0mself\u001b[0m\u001b[0;34m.\u001b[0m\u001b[0m_fit\u001b[0m\u001b[0;34m(\u001b[0m\u001b[0mX\u001b[0m\u001b[0;34m,\u001b[0m \u001b[0my\u001b[0m\u001b[0;34m,\u001b[0m \u001b[0;34m**\u001b[0m\u001b[0mfit_params_steps\u001b[0m\u001b[0;34m)\u001b[0m\u001b[0;34m\u001b[0m\u001b[0;34m\u001b[0m\u001b[0m\n\u001b[0m\u001b[1;32m    402\u001b[0m         \u001b[0;32mwith\u001b[0m \u001b[0m_print_elapsed_time\u001b[0m\u001b[0;34m(\u001b[0m\u001b[0;34m\"Pipeline\"\u001b[0m\u001b[0;34m,\u001b[0m \u001b[0mself\u001b[0m\u001b[0;34m.\u001b[0m\u001b[0m_log_message\u001b[0m\u001b[0;34m(\u001b[0m\u001b[0mlen\u001b[0m\u001b[0;34m(\u001b[0m\u001b[0mself\u001b[0m\u001b[0;34m.\u001b[0m\u001b[0msteps\u001b[0m\u001b[0;34m)\u001b[0m \u001b[0;34m-\u001b[0m \u001b[0;36m1\u001b[0m\u001b[0;34m)\u001b[0m\u001b[0;34m)\u001b[0m\u001b[0;34m:\u001b[0m\u001b[0;34m\u001b[0m\u001b[0;34m\u001b[0m\u001b[0m\n\u001b[1;32m    403\u001b[0m             \u001b[0;32mif\u001b[0m \u001b[0mself\u001b[0m\u001b[0;34m.\u001b[0m\u001b[0m_final_estimator\u001b[0m \u001b[0;34m!=\u001b[0m \u001b[0;34m\"passthrough\"\u001b[0m\u001b[0;34m:\u001b[0m\u001b[0;34m\u001b[0m\u001b[0;34m\u001b[0m\u001b[0m\n",
            "\u001b[0;32m/usr/local/lib/python3.9/dist-packages/sklearn/pipeline.py\u001b[0m in \u001b[0;36m_fit\u001b[0;34m(self, X, y, **fit_params_steps)\u001b[0m\n\u001b[1;32m    357\u001b[0m                 \u001b[0mcloned_transformer\u001b[0m \u001b[0;34m=\u001b[0m \u001b[0mclone\u001b[0m\u001b[0;34m(\u001b[0m\u001b[0mtransformer\u001b[0m\u001b[0;34m)\u001b[0m\u001b[0;34m\u001b[0m\u001b[0;34m\u001b[0m\u001b[0m\n\u001b[1;32m    358\u001b[0m             \u001b[0;31m# Fit or load from cache the current transformer\u001b[0m\u001b[0;34m\u001b[0m\u001b[0;34m\u001b[0m\u001b[0m\n\u001b[0;32m--> 359\u001b[0;31m             X, fitted_transformer = fit_transform_one_cached(\n\u001b[0m\u001b[1;32m    360\u001b[0m                 \u001b[0mcloned_transformer\u001b[0m\u001b[0;34m,\u001b[0m\u001b[0;34m\u001b[0m\u001b[0;34m\u001b[0m\u001b[0m\n\u001b[1;32m    361\u001b[0m                 \u001b[0mX\u001b[0m\u001b[0;34m,\u001b[0m\u001b[0;34m\u001b[0m\u001b[0;34m\u001b[0m\u001b[0m\n",
            "\u001b[0;32m/usr/local/lib/python3.9/dist-packages/joblib/memory.py\u001b[0m in \u001b[0;36m__call__\u001b[0;34m(self, *args, **kwargs)\u001b[0m\n\u001b[1;32m    347\u001b[0m \u001b[0;34m\u001b[0m\u001b[0m\n\u001b[1;32m    348\u001b[0m     \u001b[0;32mdef\u001b[0m \u001b[0m__call__\u001b[0m\u001b[0;34m(\u001b[0m\u001b[0mself\u001b[0m\u001b[0;34m,\u001b[0m \u001b[0;34m*\u001b[0m\u001b[0margs\u001b[0m\u001b[0;34m,\u001b[0m \u001b[0;34m**\u001b[0m\u001b[0mkwargs\u001b[0m\u001b[0;34m)\u001b[0m\u001b[0;34m:\u001b[0m\u001b[0;34m\u001b[0m\u001b[0;34m\u001b[0m\u001b[0m\n\u001b[0;32m--> 349\u001b[0;31m         \u001b[0;32mreturn\u001b[0m \u001b[0mself\u001b[0m\u001b[0;34m.\u001b[0m\u001b[0mfunc\u001b[0m\u001b[0;34m(\u001b[0m\u001b[0;34m*\u001b[0m\u001b[0margs\u001b[0m\u001b[0;34m,\u001b[0m \u001b[0;34m**\u001b[0m\u001b[0mkwargs\u001b[0m\u001b[0;34m)\u001b[0m\u001b[0;34m\u001b[0m\u001b[0;34m\u001b[0m\u001b[0m\n\u001b[0m\u001b[1;32m    350\u001b[0m \u001b[0;34m\u001b[0m\u001b[0m\n\u001b[1;32m    351\u001b[0m     \u001b[0;32mdef\u001b[0m \u001b[0mcall_and_shelve\u001b[0m\u001b[0;34m(\u001b[0m\u001b[0mself\u001b[0m\u001b[0;34m,\u001b[0m \u001b[0;34m*\u001b[0m\u001b[0margs\u001b[0m\u001b[0;34m,\u001b[0m \u001b[0;34m**\u001b[0m\u001b[0mkwargs\u001b[0m\u001b[0;34m)\u001b[0m\u001b[0;34m:\u001b[0m\u001b[0;34m\u001b[0m\u001b[0;34m\u001b[0m\u001b[0m\n",
            "\u001b[0;32m/usr/local/lib/python3.9/dist-packages/sklearn/pipeline.py\u001b[0m in \u001b[0;36m_fit_transform_one\u001b[0;34m(transformer, X, y, weight, message_clsname, message, **fit_params)\u001b[0m\n\u001b[1;32m    891\u001b[0m     \u001b[0;32mwith\u001b[0m \u001b[0m_print_elapsed_time\u001b[0m\u001b[0;34m(\u001b[0m\u001b[0mmessage_clsname\u001b[0m\u001b[0;34m,\u001b[0m \u001b[0mmessage\u001b[0m\u001b[0;34m)\u001b[0m\u001b[0;34m:\u001b[0m\u001b[0;34m\u001b[0m\u001b[0;34m\u001b[0m\u001b[0m\n\u001b[1;32m    892\u001b[0m         \u001b[0;32mif\u001b[0m \u001b[0mhasattr\u001b[0m\u001b[0;34m(\u001b[0m\u001b[0mtransformer\u001b[0m\u001b[0;34m,\u001b[0m \u001b[0;34m\"fit_transform\"\u001b[0m\u001b[0;34m)\u001b[0m\u001b[0;34m:\u001b[0m\u001b[0;34m\u001b[0m\u001b[0;34m\u001b[0m\u001b[0m\n\u001b[0;32m--> 893\u001b[0;31m             \u001b[0mres\u001b[0m \u001b[0;34m=\u001b[0m \u001b[0mtransformer\u001b[0m\u001b[0;34m.\u001b[0m\u001b[0mfit_transform\u001b[0m\u001b[0;34m(\u001b[0m\u001b[0mX\u001b[0m\u001b[0;34m,\u001b[0m \u001b[0my\u001b[0m\u001b[0;34m,\u001b[0m \u001b[0;34m**\u001b[0m\u001b[0mfit_params\u001b[0m\u001b[0;34m)\u001b[0m\u001b[0;34m\u001b[0m\u001b[0;34m\u001b[0m\u001b[0m\n\u001b[0m\u001b[1;32m    894\u001b[0m         \u001b[0;32melse\u001b[0m\u001b[0;34m:\u001b[0m\u001b[0;34m\u001b[0m\u001b[0;34m\u001b[0m\u001b[0m\n\u001b[1;32m    895\u001b[0m             \u001b[0mres\u001b[0m \u001b[0;34m=\u001b[0m \u001b[0mtransformer\u001b[0m\u001b[0;34m.\u001b[0m\u001b[0mfit\u001b[0m\u001b[0;34m(\u001b[0m\u001b[0mX\u001b[0m\u001b[0;34m,\u001b[0m \u001b[0my\u001b[0m\u001b[0;34m,\u001b[0m \u001b[0;34m**\u001b[0m\u001b[0mfit_params\u001b[0m\u001b[0;34m)\u001b[0m\u001b[0;34m.\u001b[0m\u001b[0mtransform\u001b[0m\u001b[0;34m(\u001b[0m\u001b[0mX\u001b[0m\u001b[0;34m)\u001b[0m\u001b[0;34m\u001b[0m\u001b[0;34m\u001b[0m\u001b[0m\n",
            "\u001b[0;32m/usr/local/lib/python3.9/dist-packages/sklearn/utils/_set_output.py\u001b[0m in \u001b[0;36mwrapped\u001b[0;34m(self, X, *args, **kwargs)\u001b[0m\n\u001b[1;32m    138\u001b[0m     \u001b[0;34m@\u001b[0m\u001b[0mwraps\u001b[0m\u001b[0;34m(\u001b[0m\u001b[0mf\u001b[0m\u001b[0;34m)\u001b[0m\u001b[0;34m\u001b[0m\u001b[0;34m\u001b[0m\u001b[0m\n\u001b[1;32m    139\u001b[0m     \u001b[0;32mdef\u001b[0m \u001b[0mwrapped\u001b[0m\u001b[0;34m(\u001b[0m\u001b[0mself\u001b[0m\u001b[0;34m,\u001b[0m \u001b[0mX\u001b[0m\u001b[0;34m,\u001b[0m \u001b[0;34m*\u001b[0m\u001b[0margs\u001b[0m\u001b[0;34m,\u001b[0m \u001b[0;34m**\u001b[0m\u001b[0mkwargs\u001b[0m\u001b[0;34m)\u001b[0m\u001b[0;34m:\u001b[0m\u001b[0;34m\u001b[0m\u001b[0;34m\u001b[0m\u001b[0m\n\u001b[0;32m--> 140\u001b[0;31m         \u001b[0mdata_to_wrap\u001b[0m \u001b[0;34m=\u001b[0m \u001b[0mf\u001b[0m\u001b[0;34m(\u001b[0m\u001b[0mself\u001b[0m\u001b[0;34m,\u001b[0m \u001b[0mX\u001b[0m\u001b[0;34m,\u001b[0m \u001b[0;34m*\u001b[0m\u001b[0margs\u001b[0m\u001b[0;34m,\u001b[0m \u001b[0;34m**\u001b[0m\u001b[0mkwargs\u001b[0m\u001b[0;34m)\u001b[0m\u001b[0;34m\u001b[0m\u001b[0;34m\u001b[0m\u001b[0m\n\u001b[0m\u001b[1;32m    141\u001b[0m         \u001b[0;32mif\u001b[0m \u001b[0misinstance\u001b[0m\u001b[0;34m(\u001b[0m\u001b[0mdata_to_wrap\u001b[0m\u001b[0;34m,\u001b[0m \u001b[0mtuple\u001b[0m\u001b[0;34m)\u001b[0m\u001b[0;34m:\u001b[0m\u001b[0;34m\u001b[0m\u001b[0;34m\u001b[0m\u001b[0m\n\u001b[1;32m    142\u001b[0m             \u001b[0;31m# only wrap the first output for cross decomposition\u001b[0m\u001b[0;34m\u001b[0m\u001b[0;34m\u001b[0m\u001b[0m\n",
            "\u001b[0;32m/usr/local/lib/python3.9/dist-packages/sklearn/base.py\u001b[0m in \u001b[0;36mfit_transform\u001b[0;34m(self, X, y, **fit_params)\u001b[0m\n\u001b[1;32m    879\u001b[0m         \u001b[0;32melse\u001b[0m\u001b[0;34m:\u001b[0m\u001b[0;34m\u001b[0m\u001b[0;34m\u001b[0m\u001b[0m\n\u001b[1;32m    880\u001b[0m             \u001b[0;31m# fit method of arity 2 (supervised transformation)\u001b[0m\u001b[0;34m\u001b[0m\u001b[0;34m\u001b[0m\u001b[0m\n\u001b[0;32m--> 881\u001b[0;31m             \u001b[0;32mreturn\u001b[0m \u001b[0mself\u001b[0m\u001b[0;34m.\u001b[0m\u001b[0mfit\u001b[0m\u001b[0;34m(\u001b[0m\u001b[0mX\u001b[0m\u001b[0;34m,\u001b[0m \u001b[0my\u001b[0m\u001b[0;34m,\u001b[0m \u001b[0;34m**\u001b[0m\u001b[0mfit_params\u001b[0m\u001b[0;34m)\u001b[0m\u001b[0;34m.\u001b[0m\u001b[0mtransform\u001b[0m\u001b[0;34m(\u001b[0m\u001b[0mX\u001b[0m\u001b[0;34m)\u001b[0m\u001b[0;34m\u001b[0m\u001b[0;34m\u001b[0m\u001b[0m\n\u001b[0m\u001b[1;32m    882\u001b[0m \u001b[0;34m\u001b[0m\u001b[0m\n\u001b[1;32m    883\u001b[0m \u001b[0;34m\u001b[0m\u001b[0m\n",
            "\u001b[0;32m/usr/local/lib/python3.9/dist-packages/SafeTransformer/SafeTransformer.py\u001b[0m in \u001b[0;36mfit\u001b[0;34m(self, X, y, verbose)\u001b[0m\n\u001b[1;32m    264\u001b[0m                         \u001b[0mself\u001b[0m\u001b[0;34m.\u001b[0m\u001b[0mmodel\u001b[0m\u001b[0;34m.\u001b[0m\u001b[0mfit\u001b[0m\u001b[0;34m(\u001b[0m\u001b[0mX\u001b[0m\u001b[0;34m,\u001b[0m \u001b[0my\u001b[0m\u001b[0;34m,\u001b[0m \u001b[0;34m**\u001b[0m\u001b[0mself\u001b[0m\u001b[0;34m.\u001b[0m\u001b[0mmodel_params\u001b[0m\u001b[0;34m)\u001b[0m\u001b[0;34m\u001b[0m\u001b[0;34m\u001b[0m\u001b[0m\n\u001b[1;32m    265\u001b[0m                 \u001b[0;32mfor\u001b[0m \u001b[0mvariable\u001b[0m \u001b[0;32min\u001b[0m \u001b[0mself\u001b[0m\u001b[0;34m.\u001b[0m\u001b[0mvariables\u001b[0m\u001b[0;34m:\u001b[0m\u001b[0;34m\u001b[0m\u001b[0;34m\u001b[0m\u001b[0m\n\u001b[0;32m--> 266\u001b[0;31m                         \u001b[0mvariable\u001b[0m\u001b[0;34m.\u001b[0m\u001b[0mfit\u001b[0m\u001b[0;34m(\u001b[0m\u001b[0mself\u001b[0m\u001b[0;34m.\u001b[0m\u001b[0mmodel\u001b[0m\u001b[0;34m,\u001b[0m \u001b[0mX\u001b[0m\u001b[0;34m,\u001b[0m \u001b[0mverbose\u001b[0m\u001b[0;34m=\u001b[0m\u001b[0mverbose\u001b[0m\u001b[0;34m)\u001b[0m\u001b[0;34m\u001b[0m\u001b[0;34m\u001b[0m\u001b[0m\n\u001b[0m\u001b[1;32m    267\u001b[0m                 \u001b[0mself\u001b[0m\u001b[0;34m.\u001b[0m\u001b[0mis_fitted\u001b[0m \u001b[0;34m=\u001b[0m \u001b[0;32mTrue\u001b[0m\u001b[0;34m\u001b[0m\u001b[0;34m\u001b[0m\u001b[0m\n\u001b[1;32m    268\u001b[0m                 \u001b[0;32mreturn\u001b[0m \u001b[0mself\u001b[0m\u001b[0;34m\u001b[0m\u001b[0;34m\u001b[0m\u001b[0m\n",
            "\u001b[0;32m/usr/local/lib/python3.9/dist-packages/SafeTransformer/SafeTransformer.py\u001b[0m in \u001b[0;36mfit\u001b[0;34m(self, model, X, verbose)\u001b[0m\n\u001b[1;32m     47\u001b[0m                 \u001b[0;32mif\u001b[0m \u001b[0mverbose\u001b[0m\u001b[0;34m:\u001b[0m\u001b[0;34m\u001b[0m\u001b[0;34m\u001b[0m\u001b[0m\n\u001b[1;32m     48\u001b[0m                         \u001b[0mprint\u001b[0m\u001b[0;34m(\u001b[0m\u001b[0;34m'Fitting variable:'\u001b[0m \u001b[0;34m+\u001b[0m \u001b[0mstr\u001b[0m\u001b[0;34m(\u001b[0m\u001b[0mself\u001b[0m\u001b[0;34m.\u001b[0m\u001b[0moriginal_name\u001b[0m\u001b[0;34m)\u001b[0m\u001b[0;34m)\u001b[0m\u001b[0;34m\u001b[0m\u001b[0;34m\u001b[0m\u001b[0m\n\u001b[0;32m---> 49\u001b[0;31m                 \u001b[0mpdp\u001b[0m\u001b[0;34m,\u001b[0m \u001b[0maxis\u001b[0m \u001b[0;34m=\u001b[0m \u001b[0mself\u001b[0m\u001b[0;34m.\u001b[0m\u001b[0m_get_partial_dependence\u001b[0m\u001b[0;34m(\u001b[0m\u001b[0mmodel\u001b[0m\u001b[0;34m,\u001b[0m \u001b[0mX\u001b[0m\u001b[0;34m,\u001b[0m \u001b[0mgrid_resolution\u001b[0m\u001b[0;34m=\u001b[0m\u001b[0;36m1000\u001b[0m\u001b[0;34m)\u001b[0m\u001b[0;34m\u001b[0m\u001b[0;34m\u001b[0m\u001b[0m\n\u001b[0m\u001b[1;32m     50\u001b[0m                 \u001b[0malgo\u001b[0m \u001b[0;34m=\u001b[0m \u001b[0mrpt\u001b[0m\u001b[0;34m.\u001b[0m\u001b[0mPelt\u001b[0m\u001b[0;34m(\u001b[0m\u001b[0mmodel\u001b[0m\u001b[0;34m=\u001b[0m\u001b[0mself\u001b[0m\u001b[0;34m.\u001b[0m\u001b[0mpelt_model\u001b[0m\u001b[0;34m)\u001b[0m\u001b[0;34m.\u001b[0m\u001b[0mfit\u001b[0m\u001b[0;34m(\u001b[0m\u001b[0mpdp\u001b[0m\u001b[0;34m)\u001b[0m\u001b[0;34m\u001b[0m\u001b[0;34m\u001b[0m\u001b[0m\n\u001b[1;32m     51\u001b[0m                 \u001b[0mself\u001b[0m\u001b[0;34m.\u001b[0m\u001b[0mchangepoints\u001b[0m \u001b[0;34m=\u001b[0m \u001b[0malgo\u001b[0m\u001b[0;34m.\u001b[0m\u001b[0mpredict\u001b[0m\u001b[0;34m(\u001b[0m\u001b[0mpen\u001b[0m\u001b[0;34m=\u001b[0m\u001b[0mself\u001b[0m\u001b[0;34m.\u001b[0m\u001b[0mpenalty\u001b[0m\u001b[0;34m)\u001b[0m\u001b[0;34m\u001b[0m\u001b[0;34m\u001b[0m\u001b[0m\n",
            "\u001b[0;32m/usr/local/lib/python3.9/dist-packages/SafeTransformer/SafeTransformer.py\u001b[0m in \u001b[0;36m_get_partial_dependence\u001b[0;34m(self, model, X, grid_resolution)\u001b[0m\n\u001b[1;32m     37\u001b[0m                         \u001b[0mX_copy\u001b[0m\u001b[0;34m.\u001b[0m\u001b[0mloc\u001b[0m\u001b[0;34m[\u001b[0m\u001b[0;34m:\u001b[0m\u001b[0;34m,\u001b[0m \u001b[0mself\u001b[0m\u001b[0;34m.\u001b[0m\u001b[0moriginal_name\u001b[0m\u001b[0;34m]\u001b[0m \u001b[0;34m=\u001b[0m \u001b[0mpoint\u001b[0m\u001b[0;34m\u001b[0m\u001b[0;34m\u001b[0m\u001b[0m\n\u001b[1;32m     38\u001b[0m                         \u001b[0;32mif\u001b[0m\u001b[0;34m(\u001b[0m\u001b[0mhasattr\u001b[0m\u001b[0;34m(\u001b[0m\u001b[0mmodel\u001b[0m\u001b[0;34m,\u001b[0m \u001b[0;34m'predict_proba'\u001b[0m\u001b[0;34m)\u001b[0m\u001b[0;34m)\u001b[0m\u001b[0;34m:\u001b[0m\u001b[0;34m\u001b[0m\u001b[0;34m\u001b[0m\u001b[0m\n\u001b[0;32m---> 39\u001b[0;31m                                 \u001b[0mpredictions\u001b[0m \u001b[0;34m=\u001b[0m \u001b[0mmodel\u001b[0m\u001b[0;34m.\u001b[0m\u001b[0mpredict_proba\u001b[0m\u001b[0;34m(\u001b[0m\u001b[0mX_copy\u001b[0m\u001b[0;34m)\u001b[0m\u001b[0;34m\u001b[0m\u001b[0;34m\u001b[0m\u001b[0m\n\u001b[0m\u001b[1;32m     40\u001b[0m                         \u001b[0;32melse\u001b[0m\u001b[0;34m:\u001b[0m\u001b[0;34m\u001b[0m\u001b[0;34m\u001b[0m\u001b[0m\n\u001b[1;32m     41\u001b[0m                                 \u001b[0mpredictions\u001b[0m \u001b[0;34m=\u001b[0m \u001b[0mmodel\u001b[0m\u001b[0;34m.\u001b[0m\u001b[0mpredict\u001b[0m\u001b[0;34m(\u001b[0m\u001b[0mX_copy\u001b[0m\u001b[0;34m)\u001b[0m\u001b[0;34m\u001b[0m\u001b[0;34m\u001b[0m\u001b[0m\n",
            "\u001b[0;32m/usr/local/lib/python3.9/dist-packages/sklearn/ensemble/_gb.py\u001b[0m in \u001b[0;36mpredict_proba\u001b[0;34m(self, X)\u001b[0m\n\u001b[1;32m   1353\u001b[0m             \u001b[0mIf\u001b[0m \u001b[0mthe\u001b[0m\u001b[0;31m \u001b[0m\u001b[0;31m`\u001b[0m\u001b[0;31m`\u001b[0m\u001b[0mloss\u001b[0m\u001b[0;31m`\u001b[0m\u001b[0;31m`\u001b[0m \u001b[0mdoes\u001b[0m \u001b[0;32mnot\u001b[0m \u001b[0msupport\u001b[0m \u001b[0mprobabilities\u001b[0m\u001b[0;34m.\u001b[0m\u001b[0;34m\u001b[0m\u001b[0;34m\u001b[0m\u001b[0m\n\u001b[1;32m   1354\u001b[0m         \"\"\"\n\u001b[0;32m-> 1355\u001b[0;31m         \u001b[0mraw_predictions\u001b[0m \u001b[0;34m=\u001b[0m \u001b[0mself\u001b[0m\u001b[0;34m.\u001b[0m\u001b[0mdecision_function\u001b[0m\u001b[0;34m(\u001b[0m\u001b[0mX\u001b[0m\u001b[0;34m)\u001b[0m\u001b[0;34m\u001b[0m\u001b[0;34m\u001b[0m\u001b[0m\n\u001b[0m\u001b[1;32m   1356\u001b[0m         \u001b[0;32mtry\u001b[0m\u001b[0;34m:\u001b[0m\u001b[0;34m\u001b[0m\u001b[0;34m\u001b[0m\u001b[0m\n\u001b[1;32m   1357\u001b[0m             \u001b[0;32mreturn\u001b[0m \u001b[0mself\u001b[0m\u001b[0;34m.\u001b[0m\u001b[0m_loss\u001b[0m\u001b[0;34m.\u001b[0m\u001b[0m_raw_prediction_to_proba\u001b[0m\u001b[0;34m(\u001b[0m\u001b[0mraw_predictions\u001b[0m\u001b[0;34m)\u001b[0m\u001b[0;34m\u001b[0m\u001b[0;34m\u001b[0m\u001b[0m\n",
            "\u001b[0;32m/usr/local/lib/python3.9/dist-packages/sklearn/ensemble/_gb.py\u001b[0m in \u001b[0;36mdecision_function\u001b[0;34m(self, X)\u001b[0m\n\u001b[1;32m   1262\u001b[0m             \u001b[0mX\u001b[0m\u001b[0;34m,\u001b[0m \u001b[0mdtype\u001b[0m\u001b[0;34m=\u001b[0m\u001b[0mDTYPE\u001b[0m\u001b[0;34m,\u001b[0m \u001b[0morder\u001b[0m\u001b[0;34m=\u001b[0m\u001b[0;34m\"C\"\u001b[0m\u001b[0;34m,\u001b[0m \u001b[0maccept_sparse\u001b[0m\u001b[0;34m=\u001b[0m\u001b[0;34m\"csr\"\u001b[0m\u001b[0;34m,\u001b[0m \u001b[0mreset\u001b[0m\u001b[0;34m=\u001b[0m\u001b[0;32mFalse\u001b[0m\u001b[0;34m\u001b[0m\u001b[0;34m\u001b[0m\u001b[0m\n\u001b[1;32m   1263\u001b[0m         )\n\u001b[0;32m-> 1264\u001b[0;31m         \u001b[0mraw_predictions\u001b[0m \u001b[0;34m=\u001b[0m \u001b[0mself\u001b[0m\u001b[0;34m.\u001b[0m\u001b[0m_raw_predict\u001b[0m\u001b[0;34m(\u001b[0m\u001b[0mX\u001b[0m\u001b[0;34m)\u001b[0m\u001b[0;34m\u001b[0m\u001b[0;34m\u001b[0m\u001b[0m\n\u001b[0m\u001b[1;32m   1265\u001b[0m         \u001b[0;32mif\u001b[0m \u001b[0mraw_predictions\u001b[0m\u001b[0;34m.\u001b[0m\u001b[0mshape\u001b[0m\u001b[0;34m[\u001b[0m\u001b[0;36m1\u001b[0m\u001b[0;34m]\u001b[0m \u001b[0;34m==\u001b[0m \u001b[0;36m1\u001b[0m\u001b[0;34m:\u001b[0m\u001b[0;34m\u001b[0m\u001b[0;34m\u001b[0m\u001b[0m\n\u001b[1;32m   1266\u001b[0m             \u001b[0;32mreturn\u001b[0m \u001b[0mraw_predictions\u001b[0m\u001b[0;34m.\u001b[0m\u001b[0mravel\u001b[0m\u001b[0;34m(\u001b[0m\u001b[0;34m)\u001b[0m\u001b[0;34m\u001b[0m\u001b[0;34m\u001b[0m\u001b[0m\n",
            "\u001b[0;32m/usr/local/lib/python3.9/dist-packages/sklearn/ensemble/_gb.py\u001b[0m in \u001b[0;36m_raw_predict\u001b[0;34m(self, X)\u001b[0m\n\u001b[1;32m    686\u001b[0m         \u001b[0;34m\"\"\"Return the sum of the trees raw predictions (+ init estimator).\"\"\"\u001b[0m\u001b[0;34m\u001b[0m\u001b[0;34m\u001b[0m\u001b[0m\n\u001b[1;32m    687\u001b[0m         \u001b[0mraw_predictions\u001b[0m \u001b[0;34m=\u001b[0m \u001b[0mself\u001b[0m\u001b[0;34m.\u001b[0m\u001b[0m_raw_predict_init\u001b[0m\u001b[0;34m(\u001b[0m\u001b[0mX\u001b[0m\u001b[0;34m)\u001b[0m\u001b[0;34m\u001b[0m\u001b[0;34m\u001b[0m\u001b[0m\n\u001b[0;32m--> 688\u001b[0;31m         \u001b[0mpredict_stages\u001b[0m\u001b[0;34m(\u001b[0m\u001b[0mself\u001b[0m\u001b[0;34m.\u001b[0m\u001b[0mestimators_\u001b[0m\u001b[0;34m,\u001b[0m \u001b[0mX\u001b[0m\u001b[0;34m,\u001b[0m \u001b[0mself\u001b[0m\u001b[0;34m.\u001b[0m\u001b[0mlearning_rate\u001b[0m\u001b[0;34m,\u001b[0m \u001b[0mraw_predictions\u001b[0m\u001b[0;34m)\u001b[0m\u001b[0;34m\u001b[0m\u001b[0;34m\u001b[0m\u001b[0m\n\u001b[0m\u001b[1;32m    689\u001b[0m         \u001b[0;32mreturn\u001b[0m \u001b[0mraw_predictions\u001b[0m\u001b[0;34m\u001b[0m\u001b[0;34m\u001b[0m\u001b[0m\n\u001b[1;32m    690\u001b[0m \u001b[0;34m\u001b[0m\u001b[0m\n",
            "\u001b[0;31mKeyboardInterrupt\u001b[0m: "
          ]
        }
      ]
    },
    {
      "cell_type": "markdown",
      "source": [
        "Lamentablemente, aun despues de una hora no se logro compilar, por lo que no se pudo completar el ejercicio. "
      ],
      "metadata": {
        "id": "hLeQK4xapbdP"
      }
    },
    {
      "cell_type": "markdown",
      "source": [
        "![image.png](data:image/png;base64,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)"
      ],
      "metadata": {
        "id": "b-_1PeNWpVeo"
      }
    }
  ]
}